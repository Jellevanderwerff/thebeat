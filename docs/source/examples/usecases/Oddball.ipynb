{
 "cells": [
  {
   "cell_type": "markdown",
   "metadata": {
    "collapsed": true,
    "pycharm": {
     "name": "#%% md\n"
    }
   },
   "source": [
    "\n",
    "# Creating stimuli for an auditory oddball experiment\n",
    "\n",
    "Here we will follow the methods section from [Schlossmacher et al. (2022)](https://doi.org/10.1016/j.neuroimage.2022.119445)\n",
    "to create a classic oddball (deviance detection) experiment. We will go over the methods section sentence by sentence,\n",
    "and will recreate the experiment using *thebeat*.\n",
    "\n",
    "Here is the section in full:\n",
    "\n",
    "> Stimuli consisted of pure sine-tones of 600, 800, 1000, 1200, and 1400 Hz. Stimulus duration amounted to 100 ms, including rise/fall times of 10 ms. The sound volume was chosen to be easily audible during functional sequences but not unpleasantly loud. In oddball blocks, the 800 and 1200 Hz tones served as deviant and standard counterbalanced across participants. The probability of deviant to standard stimuli was 20:80 and stimulus presentation was pseudorandomized so that no two deviants were presented consecutively. In control blocks, all five tone stimuli were presented randomly with a probability of 20% (see Fig. 1A). Throughout, participants’ task was to respond to target stimuli of 300 ms duration, which were randomly interspersed in the sequence. In total, 40 targets were included, the frequency of which conformed to the stimulus probability of the current block, i.e., all tone frequencies could be potential targets. We included this task in order to ensure that participants attended to the tone sequence but did not view the deviant as a target. Interstimulus intervals (ISIs) ranged from 1.04 to 17.25 s (M = 3.01, SD = 2.06) and were derived using optseq2 (Greve, 2009). Four different optseq sequences were computed and randomly assigned to two runs per participant, creating 12 different sequence combinations. In total, two runs of 250 stimuli (ca. 13 min each) were acquired and separated by a short break. One run could start with either an oddball or control block, which seamlessly changed to control or oddball block in the middle of the run. Whether the participants started with the oddball or control block was counterbalanced across participants. The second run was always presented in reverse order, e.g., if the first run was oddball-control, the second run was control-oddball. Before starting the experiment, a short practice block of about 1 min was presented in order to accustom the participants to the task. Stimuli in this practice block were structured like the experimental block that followed, i.e., they also included brief oddball and control sequences. At all times, a white fixation cross was presented on a black screen, and participants were asked to fixate during the run. Stimulus presentation and response collection were controlled by the software Presentation (version 21.1, Neurobehavioral Systems, Albany, CA)."
   ]
  },
  {
   "cell_type": "raw",
   "metadata": {
    "raw_mimetype": "text/restructuredtext"
   },
   "source": [
    "Imports and random number generator\n",
    "-----------------------------------\n",
    "Before we start, let's import the necessary classes from *thebeat* and *NumPy*, and make a :py:class:`numpy.random.Generator` object with a seed.\n",
    "This we will use throughout so you will get the same output as we."
   ]
  },
  {
   "cell_type": "code",
   "execution_count": 2,
   "metadata": {
    "pycharm": {
     "name": "#%%\n"
    }
   },
   "outputs": [
    {
     "ename": "ModuleNotFoundError",
     "evalue": "No module named 'thebeat.resources'",
     "output_type": "error",
     "traceback": [
      "\u001b[0;31m---------------------------------------------------------------------------\u001b[0m",
      "\u001b[0;31mModuleNotFoundError\u001b[0m                       Traceback (most recent call last)",
      "Cell \u001b[0;32mIn [2], line 1\u001b[0m\n\u001b[0;32m----> 1\u001b[0m \u001b[38;5;28;01mfrom\u001b[39;00m \u001b[38;5;21;01mthebeat\u001b[39;00m\u001b[38;5;21;01m.\u001b[39;00m\u001b[38;5;21;01mcore\u001b[39;00m \u001b[38;5;28;01mimport\u001b[39;00m Sequence, Stimulus\n\u001b[1;32m      2\u001b[0m \u001b[38;5;28;01mimport\u001b[39;00m \u001b[38;5;21;01mnumpy\u001b[39;00m \u001b[38;5;28;01mas\u001b[39;00m \u001b[38;5;21;01mnp\u001b[39;00m\n\u001b[1;32m      4\u001b[0m rng \u001b[38;5;241m=\u001b[39m np\u001b[38;5;241m.\u001b[39mrandom\u001b[38;5;241m.\u001b[39mdefault_rng(seed\u001b[38;5;241m=\u001b[39m\u001b[38;5;241m123\u001b[39m)\n",
      "File \u001b[0;32m~/Documents/Werk/thebeat-package/venv/lib/python3.9/site-packages/thebeat/__init__.py:1\u001b[0m\n\u001b[0;32m----> 1\u001b[0m \u001b[38;5;28;01mfrom\u001b[39;00m \u001b[38;5;21;01m.\u001b[39;00m \u001b[38;5;28;01mimport\u001b[39;00m core\n\u001b[1;32m      2\u001b[0m \u001b[38;5;28;01mfrom\u001b[39;00m \u001b[38;5;21;01m.\u001b[39;00m \u001b[38;5;28;01mimport\u001b[39;00m rhythm\n\u001b[1;32m      3\u001b[0m \u001b[38;5;28;01mfrom\u001b[39;00m \u001b[38;5;21;01m.\u001b[39;00m \u001b[38;5;28;01mimport\u001b[39;00m linguistic\n",
      "File \u001b[0;32m~/Documents/Werk/thebeat-package/venv/lib/python3.9/site-packages/thebeat/core/__init__.py:1\u001b[0m\n\u001b[0;32m----> 1\u001b[0m \u001b[38;5;28;01mfrom\u001b[39;00m \u001b[38;5;21;01m.\u001b[39;00m\u001b[38;5;21;01msequence\u001b[39;00m \u001b[38;5;28;01mimport\u001b[39;00m Sequence\n\u001b[1;32m      2\u001b[0m \u001b[38;5;28;01mfrom\u001b[39;00m \u001b[38;5;21;01m.\u001b[39;00m\u001b[38;5;21;01mstimsequence\u001b[39;00m \u001b[38;5;28;01mimport\u001b[39;00m StimSequence\n\u001b[1;32m      3\u001b[0m \u001b[38;5;28;01mfrom\u001b[39;00m \u001b[38;5;21;01m.\u001b[39;00m\u001b[38;5;21;01mstimulus\u001b[39;00m \u001b[38;5;28;01mimport\u001b[39;00m Stimulus\n",
      "File \u001b[0;32m~/Documents/Werk/thebeat-package/venv/lib/python3.9/site-packages/thebeat/core/sequence.py:7\u001b[0m\n\u001b[1;32m      5\u001b[0m \u001b[38;5;28;01mimport\u001b[39;00m \u001b[38;5;21;01mnumpy\u001b[39;00m \u001b[38;5;28;01mas\u001b[39;00m \u001b[38;5;21;01mnp\u001b[39;00m\n\u001b[1;32m      6\u001b[0m \u001b[38;5;28;01mimport\u001b[39;00m \u001b[38;5;21;01mnumpy\u001b[39;00m\u001b[38;5;21;01m.\u001b[39;00m\u001b[38;5;21;01mtyping\u001b[39;00m \u001b[38;5;28;01mas\u001b[39;00m \u001b[38;5;21;01mnpt\u001b[39;00m\n\u001b[0;32m----> 7\u001b[0m \u001b[38;5;28;01mimport\u001b[39;00m \u001b[38;5;21;01mthebeat\u001b[39;00m\u001b[38;5;21;01m.\u001b[39;00m\u001b[38;5;21;01m_helpers\u001b[39;00m\n\u001b[1;32m     10\u001b[0m \u001b[38;5;28;01mclass\u001b[39;00m \u001b[38;5;21;01mBaseSequence\u001b[39;00m:\n\u001b[1;32m     11\u001b[0m     \u001b[38;5;124;03m\"\"\"This is the most basic of classes that the Sequence class inherits from, as well as the Rhythm class.\u001b[39;00m\n\u001b[1;32m     12\u001b[0m \u001b[38;5;124;03m    It cannot do many things, apart from holding a number of inter-onset intervals (IOIs).\u001b[39;00m\n\u001b[1;32m     13\u001b[0m \n\u001b[0;32m   (...)\u001b[0m\n\u001b[1;32m     35\u001b[0m \n\u001b[1;32m     36\u001b[0m \u001b[38;5;124;03m    \"\"\"\u001b[39;00m\n",
      "File \u001b[0;32m~/Documents/Werk/thebeat-package/venv/lib/python3.9/site-packages/thebeat/_helpers.py:9\u001b[0m\n\u001b[1;32m      5\u001b[0m \u001b[38;5;28;01mfrom\u001b[39;00m \u001b[38;5;21;01mthebeat\u001b[39;00m\u001b[38;5;21;01m.\u001b[39;00m\u001b[38;5;21;01m_warnings\u001b[39;00m \u001b[38;5;28;01mimport\u001b[39;00m framerounding_soundsynthesis\n\u001b[1;32m      7\u001b[0m \u001b[38;5;28;01mimport\u001b[39;00m \u001b[38;5;21;01mscipy\u001b[39;00m\u001b[38;5;21;01m.\u001b[39;00m\u001b[38;5;21;01msignal\u001b[39;00m\n\u001b[0;32m----> 9\u001b[0m \u001b[38;5;28;01mimport\u001b[39;00m \u001b[38;5;21;01mthebeat\u001b[39;00m\u001b[38;5;21;01m.\u001b[39;00m\u001b[38;5;21;01mresources\u001b[39;00m\n\u001b[1;32m     10\u001b[0m \u001b[38;5;28;01mimport\u001b[39;00m \u001b[38;5;21;01mnumpy\u001b[39;00m \u001b[38;5;28;01mas\u001b[39;00m \u001b[38;5;21;01mnp\u001b[39;00m\n\u001b[1;32m     11\u001b[0m \u001b[38;5;28;01mimport\u001b[39;00m \u001b[38;5;21;01mnumpy\u001b[39;00m\u001b[38;5;21;01m.\u001b[39;00m\u001b[38;5;21;01mtyping\u001b[39;00m \u001b[38;5;28;01mas\u001b[39;00m \u001b[38;5;21;01mnpt\u001b[39;00m\n",
      "\u001b[0;31mModuleNotFoundError\u001b[0m: No module named 'thebeat.resources'"
     ]
    }
   ],
   "source": [
    "from thebeat.core import Sequence, Stimulus\n",
    "import numpy as np\n",
    "\n",
    "rng = np.random.default_rng(seed=123)"
   ]
  },
  {
   "cell_type": "raw",
   "metadata": {
    "pycharm": {
     "name": "#%% md\n"
    },
    "raw_mimetype": "text/restructuredtext"
   },
   "source": [
    "Creating the stimuli\n",
    "--------------------\n",
    "\n",
    "    Stimuli consisted of pure sine-tones of 600, 800, 1000, 1200, and 1400 Hz. Stimulus duration amounted to 100 ms, including rise/fall times of 10 ms.\n",
    "\n",
    "Easy enough. Let's create 5 :py:`thebeat.core.Stimulus` objects with these settings.\n"
   ]
  },
  {
   "cell_type": "code",
   "execution_count": null,
   "metadata": {},
   "outputs": [],
   "source": [
    "stim_600 = Stimulus.generate()"
   ]
  }
 ],
 "metadata": {
  "celltoolbar": "Raw-celnotatie",
  "kernelspec": {
   "display_name": "Python 3 (ipykernel)",
   "language": "python",
   "name": "python3"
  },
  "language_info": {
   "codemirror_mode": {
    "name": "ipython",
    "version": 3
   },
   "file_extension": ".py",
   "mimetype": "text/x-python",
   "name": "python",
   "nbconvert_exporter": "python",
   "pygments_lexer": "ipython3",
   "version": "3.9.13"
  }
 },
 "nbformat": 4,
 "nbformat_minor": 1
}
