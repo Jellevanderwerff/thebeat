{
 "cells": [
  {
   "cell_type": "markdown",
   "id": "bba2c60d",
   "metadata": {},
   "source": [
    "# Roving oddball\n",
    "\n",
    "Here we will follow the methods section from [Canales-Johnson et al. (2010)](https://doi.org/10.1523/JNEUROSCI.0367-21.2021). I chose this because it's recent research, because it was one of the first hits on Scopus, and because it's open access. We will go over this section bit by bit and recreate the stimuli.\n",
    "\n",
    "Here's the relevant section:\n",
    "\n",
    "> \"We adopted a roving oddball paradigm (Cowan et al., 1993; Haenschel et al., 2005; Garrido et al., 2008). The trains of 3, 5, or 11 repetitive single tones of 20 different frequencies (250–6727 Hz with intervals of one-quarter octave) were pseudorandomly presented. Tones were identical within each tone train but differed between tone trains (Fig. 1A). Because tone trains followed on from one another continuously, the first tone of a train was considered to be an unexpected deviant tone, because it was of a different frequency than that of the preceding train. The final tone was considered to be an expected standard tone because it was preceded by several repetitions of this same tone. To avoid analytical artifacts stemming from differences in the number of standard and deviant stimuli, we considered only the last tone of a train as standard. There were 240 changes from standard to deviant tones in a single recording session. Pure sinusoidal tones lasted 64 ms (7 ms rise/fall), and stimulus onset asynchrony was 503 ms. Stimulus presentation was controlled by MATLAB (MathWorks) using the Psychophysics Toolbox extensions (Brainard, 1997; Pelli, 1997; Kleiner et al., 2007). Tones were presented through two audio speakers (Fostex) with an average intensity of 60 dB SPL around the ear of the animal.\""
   ]
  },
  {
   "cell_type": "raw",
   "id": "44324624",
   "metadata": {
    "raw_mimetype": "text/restructuredtext"
   },
   "source": [
    "Imports and random number generator\n",
    "-----------------------------------\n",
    "Before we start, let's import the necessary classes from *thebeat* and *NumPy*, and make a :py:class:`numpy.random.Generator` object with a seed.\n",
    "This we will use throughout so you will get the same output as we."
   ]
  },
  {
   "cell_type": "code",
   "execution_count": 1,
   "id": "58808a86",
   "metadata": {},
   "outputs": [],
   "source": [
    "from thebeat.core import Sequence, Stimulus, StimSequence\n",
    "import numpy as np\n",
    "\n",
    "rng = np.random.default_rng(seed=123)"
   ]
  },
  {
   "cell_type": "code",
   "execution_count": 2,
   "id": "e8efed48",
   "metadata": {
    "nbsphinx": "hidden"
   },
   "outputs": [],
   "source": [
    "# We suppress warnings, but let's hide that to avoid confusion\n",
    "import warnings\n",
    "warnings.filterwarnings('ignore')"
   ]
  },
  {
   "cell_type": "raw",
   "id": "5bf6281b",
   "metadata": {
    "raw_mimetype": "text/restructuredtext"
   },
   "source": [
    "Summary\n",
    "-------\n",
    "\n",
    "    \"The trains of 3, 5, or 11 repetitive single tones of 20 different frequencies (250–6727 Hz with intervals of one-quarter octave) were pseudorandomly presented. Tones were identical within each tone train but differed between tone trains (Fig. 1A). [. . .] Pure sinusoidal tones lasted 64 ms (7 ms rise/fall), and stimulus onset asynchrony was 503 ms.\"\n",
    "\n",
    "    \n",
    "So, we create 20 stimuli with the given frequencies, and make trains with them that are either 3, 5, or 11 tones long.\n",
    "\n",
    "*********"
   ]
  },
  {
   "cell_type": "raw",
   "id": "bfcbf8db",
   "metadata": {
    "raw_mimetype": "text/restructuredtext"
   },
   "source": [
    "Creating the Sequences\n",
    "----------------------\n",
    "Most of the time, it's conceptually the easiest to start with the :py:class:`~thebeat.core.Sequence` object(s). Here, there will be three (with 3, 5, and 11 events). The sequences are isochronous and the inter-onset interval is 503 milliseconds.\n",
    "\n",
    "Importantly, we will want to be able to paste the sequences together at the end so we get one long train of sounds. Normally, a sequence of 3 events will have 2 inter-onset intervals (IOIs). Why that is we'll quickly visualize by plotting a simple sequence:"
   ]
  },
  {
   "cell_type": "code",
   "execution_count": 5,
   "id": "4c1f55dc",
   "metadata": {},
   "outputs": [
    {
     "data": {
      "image/png": "[encoded data removed]",
      "text/plain": [
       "<Figure size 400x200 with 1 Axes>"
      ]
     },
     "metadata": {},
     "output_type": "display_data"
    }
   ],
   "source": [
    "seq = Sequence.generate_isochronous(n=3, ioi=500)\n",
    "%matplotlib inline\n",
    "seq.plot_sequence(figsize=(4, 2), linewidth=100);"
   ]
  },
  {
   "cell_type": "markdown",
   "id": "dfe3ea30",
   "metadata": {},
   "source": [
    "The IOIs are the intervals *between* the events."
   ]
  },
  {
   "cell_type": "code",
   "execution_count": 25,
   "id": "93b6f578",
   "metadata": {},
   "outputs": [],
   "source": [
    "seq_3 = Sequence.generate_isochronous(n=3, ioi=503)\n",
    "seq_5 = Sequence.generate_isochronous(n=5, ioi=503)\n",
    "seq_11 = Sequence.generate_isochronous(n=11, ioi=503)"
   ]
  },
  {
   "cell_type": "code",
   "execution_count": null,
   "id": "b4341af9",
   "metadata": {},
   "outputs": [],
   "source": []
  },
  {
   "cell_type": "code",
   "execution_count": null,
   "id": "059a43a0",
   "metadata": {},
   "outputs": [],
   "source": []
  }
 ],
 "metadata": {
  "celltoolbar": "Metagegevens bewerken",
  "kernelspec": {
   "display_name": "Python 3 (ipykernel)",
   "language": "python",
   "name": "python3"
  },
  "language_info": {
   "codemirror_mode": {
    "name": "ipython",
    "version": 3
   },
   "file_extension": ".py",
   "mimetype": "text/x-python",
   "name": "python",
   "nbconvert_exporter": "python",
   "pygments_lexer": "ipython3",
   "version": "3.9.13"
  }
 },
 "nbformat": 4,
 "nbformat_minor": 5
}
