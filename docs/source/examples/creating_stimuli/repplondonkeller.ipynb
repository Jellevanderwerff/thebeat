{
 "cells": [
  {
   "cell_type": "markdown",
   "id": "ab942351-8c7f-4384-8549-233a9704500a",
   "metadata": {},
   "source": [
    "# Uneven rhythms"
   ]
  },
  {
   "cell_type": "markdown",
   "id": "abe364e4-16d9-403f-9463-692639cba4d3",
   "metadata": {},
   "source": [
    "In this example, we will go through the methods section of a classic study by [Repp, London, and Keller (2005)](https://doi.org/10.1525/mp.2005.23.1.61).\n",
    "A PDF for the paper is available [here](https://www.researchgate.net/publication/38136482_Production_and_synchronization_of_uneven_rhythms_at_fast_tempi).\n",
    "\n",
    "This example makes heavy use of list comprehensions. If you do not yet understand those fully, best to take a look at [this tutorial](https://www.freecodecamp.org/news/list-comprehension-in-python/) before reading on."
   ]
  },
  {
   "cell_type": "markdown",
   "id": "fb5f0631-85ff-4773-9a29-291ee001c027",
   "metadata": {},
   "source": [
    "First we do some necessary imports:"
   ]
  },
  {
   "cell_type": "code",
   "execution_count": null,
   "id": "89ecff60-9555-443e-93f5-bf2f02e559a1",
   "metadata": {},
   "outputs": [],
   "source": [
    "from thebeat.music import Rhythm\n",
    "from thebeat.core import Sequence, SoundStimulus, SoundSequence\n",
    "import numpy as np"
   ]
  },
  {
   "cell_type": "code",
   "execution_count": null,
   "id": "2779fc75-cd04-44c5-97cc-04181a0d2177",
   "metadata": {
    "nbsphinx": "hidden",
    "tags": []
   },
   "outputs": [],
   "source": [
    "# We suppress warnings, but let's hide that to avoid confusion\n",
    "import warnings\n",
    "warnings.filterwarnings('ignore')\n",
    "%matplotlib inline"
   ]
  },
  {
   "cell_type": "markdown",
   "id": "db37374a-75bb-44c2-8bfd-fecc6bbf3eea",
   "metadata": {},
   "source": [
    "---"
   ]
  },
  {
   "cell_type": "markdown",
   "id": "d3a4b169-b18a-4dd9-96c9-97677e6c68c3",
   "metadata": {},
   "source": [
    "In the experiment in Repp, London, and Keller (2005), the production of and synchronization with 'uneven' rhythms was tested. These are rhythms with unusual subdivisions of timing (i.e. non-binary). Check out Figure 1 from the paper. We will only make the {2, 3} set; at the end of this example you will be able to make the other ones yourself."
   ]
  },
  {
   "cell_type": "markdown",
   "id": "c1b29b23-d147-46c1-8242-043f31534ebb",
   "metadata": {
    "raw_mimetype": "text/restructuredtext",
    "tags": []
   },
   "source": [
    "---"
   ]
  },
  {
   "cell_type": "raw",
   "id": "32c93aae-1681-49e8-94e6-d0927f5f532f",
   "metadata": {
    "raw_mimetype": "text/restructuredtext",
    "tags": []
   },
   "source": [
    "We can create these rhythms easily using the :py:class:`~thebeat.music.Rhythm` class. This class can be used to generate or plot rhythms. Note that it doesn't contain any sound, it is in essence similar to the :py:class:`~thebeat.core.Sequence` class, except that it has a ``beat_ms``, a ``time_signature`` and a list ``is_played``, which contains information about whether the notes are actually played, or whether they are rests. In addition, Rhythm objects always have ``end_with_interval=True`` (see :py:meth:`~thebeat.core.Sequence.__init__`). \n",
    "\n",
    ":py:class:`~thebeat.music.Rhythm` objects can be created in a number of ways. The constructor uses IOIs, e.g. ``r = Rhythm(500, 500, 500, 500)``.\n",
    "Easier is to think about it in terms of integer ratios (:py:meth:`~thebeat.music.Rhythm.from_integer_ratios`), or possibly note values (:py:meth:`~thebeat.music.Rhythm.from_note_values`)."
   ]
  },
  {
   "cell_type": "raw",
   "id": "b3f36f4c-2834-430b-8660-d2013545c211",
   "metadata": {
    "raw_mimetype": "text/restructuredtext",
    "tags": []
   },
   "source": [
    "Example rhythm\n",
    "--------------\n",
    "\n",
    "As an example let's create the first rhythm from set A, and then print and plot it. We'll do it in 5/8 time signature to make the plot the same as in the illustration above.\n",
    "\n",
    ".. note::\n",
    "    ``beat_ms`` also adheres to the denominator of the time signature. As such, changing from 5/4 to 5/8 doesn't change the tempo."
   ]
  },
  {
   "cell_type": "code",
   "execution_count": null,
   "id": "113a6f36-f9eb-4155-a693-79634da182a2",
   "metadata": {},
   "outputs": [],
   "source": [
    "r_23 = Rhythm.from_integer_ratios([2, 3], beat_ms=170, time_signature=(5, 8))\n",
    "print(r_23)\n",
    "\n",
    "r_23.plot_rhythm(dpi=600);"
   ]
  },
  {
   "cell_type": "markdown",
   "id": "c7068d31-aca4-4650-9475-1c5f1703def9",
   "metadata": {},
   "source": [
    "To elongate this rhythm we can do:"
   ]
  },
  {
   "cell_type": "code",
   "execution_count": null,
   "id": "919ca609-6a7a-4cca-8d63-c5a22064a423",
   "metadata": {},
   "outputs": [],
   "source": [
    "r_23 = r_23 * 3\n",
    "r_23.plot_rhythm(dpi=600);"
   ]
  },
  {
   "cell_type": "code",
   "execution_count": null,
   "id": "cfade658-a157-42b4-ab8e-030451c090c6",
   "metadata": {},
   "outputs": [],
   "source": [
    "seq = r_23.to_sequence()\n",
    "fig, ax = seq.plot_sequence();"
   ]
  },
  {
   "cell_type": "markdown",
   "id": "d97fb1e7-cc49-4b2a-af41-cdb309a35ce0",
   "metadata": {},
   "source": [
    "---"
   ]
  },
  {
   "cell_type": "markdown",
   "id": "944703ad-b25f-4ac8-a02a-ebd17b9273fa",
   "metadata": {},
   "source": [
    "## Creating the {2, 3} set\n",
    "\n",
    "In the method section it says:\n",
    "\n",
    "> \"\\[The tempo\\] decreased from 170 ms in the first trial to 100 ms in the eighth trial, in steps of -10 ms.\"\n",
    "\n",
    "So, we'll now create the two rhythms of the {2, 3} set at the eight different tempi mentioned above. For convenience, we'll call the set 'Set A' from now on. "
   ]
  },
  {
   "cell_type": "code",
   "execution_count": null,
   "id": "4f9eeba7-0ffe-4b3d-9e58-067e9d838b44",
   "metadata": {},
   "outputs": [],
   "source": [
    "# Create tempi\n",
    "tempi = np.arange(170, 90, -10)  # as arange does not include the enpoint we stop at 90 instead of 100\n",
    "print(tempi)"
   ]
  },
  {
   "cell_type": "code",
   "execution_count": null,
   "id": "dd9f1179-6c27-45ae-8e31-015b71caf505",
   "metadata": {},
   "outputs": [],
   "source": [
    "set_a = []\n",
    "\n",
    "for tempo in tempi:\n",
    "    set_a.append(Rhythm.from_integer_ratios([2, 3] * 3, \n",
    "                                            beat_ms=tempo, \n",
    "                                            time_signature=(5, 4), \n",
    "                                            name=f\"2_3_{tempo}ms\"))\n",
    "    set_a.append(Rhythm.from_integer_ratios([3, 2] * 3, \n",
    "                                            beat_ms=tempo, \n",
    "                                            time_signature=(5, 4), \n",
    "                                            name=f\"3_2_{tempo}ms\"))\n",
    "\n",
    "# Let's see what Set A looks like now\n",
    "print(set_a)"
   ]
  },
  {
   "cell_type": "raw",
   "id": "ec634011-21b9-4ad7-8ef0-959fc3fda313",
   "metadata": {
    "raw_mimetype": "text/restructuredtext",
    "tags": []
   },
   "source": [
    "That looks OK. Now how do we get sound? For that we do three things:\n",
    "\n",
    "1. Generate a sound using :py:meth:`thebeat.core.SoundStimulus.generate`.\n",
    "2. Convert the :py:class:`~thebeat.music.Rhythm` to a :py:class:`~thebeat.core.Sequence`.\n",
    "3. Combine 1 and 2 in a :py:class:`~thebeat.core.SoundSequence` which we can play."
   ]
  },
  {
   "cell_type": "code",
   "execution_count": null,
   "id": "56d5eca2-dd24-4dde-a443-dc579d47d417",
   "metadata": {},
   "outputs": [],
   "source": [
    "# 1. generate a sound (2640 Hz acc. to the paper, duration wasn't specified)\n",
    "stim = SoundStimulus.generate(freq=2640, duration_ms=50, offramp_ms=10)\n",
    "\n",
    "# 2. convert all Rhythms to Sequence. We use a list comprehension here:\n",
    "set_a_seqs = [rhythm.to_sequence() for rhythm in set_a]\n",
    "\n",
    "# 3. generate trials. we also copy the name of the Sequence to the SoundSequence.\n",
    "trials = [SoundSequence(stim, sequence, name=sequence.name) for sequence in set_a_seqs]"
   ]
  },
  {
   "cell_type": "code",
   "execution_count": null,
   "id": "69ea4640-7d29-4802-8822-4c1fd470cf15",
   "metadata": {},
   "outputs": [],
   "source": [
    "print(trials)"
   ]
  },
  {
   "cell_type": "markdown",
   "id": "ca0d4f5a-9ef8-4673-a5eb-51c07ed403ea",
   "metadata": {},
   "source": [
    "---\n",
    "That's it! We can now plot, play or write all these files to disk. We'll grab one which we'll plot and play. How to write all these files to disk you can see in the code block at the bottom of this page."
   ]
  },
  {
   "cell_type": "code",
   "execution_count": null,
   "id": "b0b07c77-07ab-48ba-a351-a5201d48fdb5",
   "metadata": {},
   "outputs": [],
   "source": [
    "random_trial = trials[0]\n",
    "\n",
    "random_trial.plot_waveform(figsize=(8, 3));\n",
    "random_trial.plot_sequence(figsize=(8, 2), dpi=600);"
   ]
  },
  {
   "cell_type": "raw",
   "id": "71867685-99ee-4b35-9f02-c551ce6b9a6e",
   "metadata": {
    "raw_mimetype": "text/restructuredtext",
    "tags": []
   },
   "source": [
    ".. note::\n",
    "    On your computer you can simply do ``random_trial.play()`` to listen to the sound. However, for this website we need some different code. So you can ignore the code below."
   ]
  },
  {
   "cell_type": "code",
   "execution_count": null,
   "id": "26b28902-6a1a-45da-9f34-f1b366c35f58",
   "metadata": {},
   "outputs": [],
   "source": [
    "from IPython.display import Audio\n",
    "Audio(random_trial.samples, rate=random_trial.fs)"
   ]
  },
  {
   "cell_type": "markdown",
   "id": "68f83f43-01b8-4cc7-9b47-9e0d043e4653",
   "metadata": {},
   "source": [
    "## Writing everything to disk\n",
    "\n",
    "To write all these files as wav files to disk, you could do:\n",
    "\n",
    "    for trial in trials:\n",
    "        trial.write_wav('output_dir')\n",
    "\n",
    "This would use the names that we gave the trials as the output filename, for instance \"2_3_170ms.wav\"."
   ]
  },
  {
   "cell_type": "markdown",
   "id": "88f9242f-4c36-437e-9ea6-5754cfaceb7d",
   "metadata": {},
   "source": [
    "## Code summary"
   ]
  },
  {
   "cell_type": "code",
   "execution_count": null,
   "id": "df480aca-0566-46bc-b242-684f82a86e5d",
   "metadata": {},
   "outputs": [],
   "source": [
    "from thebeat.music import Rhythm\n",
    "from thebeat.core import Sequence, SoundStimulus, SoundSequence\n",
    "import numpy as np\n",
    "\n",
    "tempi = np.arange(170, 90, -10)\n",
    "\n",
    "set_a = []\n",
    "\n",
    "for tempo in tempi:\n",
    "    set_a.append(Rhythm.from_integer_ratios([2, 3, 2, 3, 2, 3], \n",
    "                                            beat_ms=tempo, \n",
    "                                            time_signature=(5, 4), \n",
    "                                            name=f\"2_3_{tempo}ms\"))\n",
    "    set_a.append(Rhythm.from_integer_ratios([3, 2, 3, 2, 3, 2], \n",
    "                                            beat_ms=tempo, \n",
    "                                            time_signature=(5, 4), \n",
    "                                            name=f\"3_2_{tempo}ms\"))\n",
    "\n",
    "stim = SoundStimulus.generate(freq=2640, duration_ms=50, offramp_ms=10)\n",
    "\n",
    "set_a_seqs = [rhythm.to_sequence() for rhythm in set_a]\n",
    "\n",
    "trials = [SoundSequence(stim, sequence, name=sequence.name) for sequence in set_a_seqs]"
   ]
  }
 ],
 "metadata": {
  "kernelspec": {
   "display_name": "Python 3 (ipykernel)",
   "language": "python",
   "name": "python3"
  },
  "language_info": {
   "codemirror_mode": {
    "name": "ipython",
    "version": 3
   },
   "file_extension": ".py",
   "mimetype": "text/x-python",
   "name": "python",
   "nbconvert_exporter": "python",
   "pygments_lexer": "ipython3",
   "version": "3.9.16"
  }
 },
 "nbformat": 4,
 "nbformat_minor": 5
}
