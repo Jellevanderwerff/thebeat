{
 "cells": [
  {
   "cell_type": "markdown",
   "id": "709cb0ba-42cd-44bb-a293-f6b27d16d6cf",
   "metadata": {
    "editable": true,
    "slideshow": {
     "slide_type": ""
    },
    "tags": []
   },
   "source": [
    "# Explanations of warnings and how to get rid of them"
   ]
  },
  {
   "cell_type": "markdown",
   "id": "258caa7b-a8a2-4e25-9f53-c8bef95cba70",
   "metadata": {},
   "source": [
    "Sometimes when you're working with *thebeat* you'll encounter warnings. While useful, they can of course become annoying at some point. Even though it's possible to simply disable all these warnings (see at the bottom of this page), we believe it's better practice to look into the origin of the warning, and solve it there. \n",
    "\n",
    "Below you'll find a number of common warnings and an explanation of where they originate."
   ]
  },
  {
   "cell_type": "code",
   "execution_count": null,
   "id": "9a3e8576-ae54-488b-b8b8-3815f95df086",
   "metadata": {
    "nbsphinx": "hidden",
    "tags": []
   },
   "outputs": [],
   "source": [
    "%matplotlib inline\n",
    "import warnings\n",
    "warnings.filterwarnings('ignore', message=\"Matplotlib \")"
   ]
  },
  {
   "cell_type": "markdown",
   "id": "6b0a6a3d-572d-4e5d-a8f5-4ae9e7a86bd2",
   "metadata": {},
   "source": [
    "## Frame rounding"
   ]
  },
  {
   "cell_type": "markdown",
   "id": "39959ef4-eb67-407a-b3f4-2c3c75f7cd80",
   "metadata": {},
   "source": [
    "### What does the warning look like?\n",
    "\n",
    "<div class=\"alert alert-danger\">\n",
    "For one or more of the used sounds, the exact start or end positions in frames (i.e. samples) were rounded off to the neirest integer ceiling. This shouldn't be a problem. To get rid of this warning, try rounding off the onsets in the passed Sequence object by calling ``Sequence.round_onsets()`` before passing the object to the SoundSequence constructor.\n",
    "</div>"
   ]
  },
  {
   "cell_type": "markdown",
   "id": "4dc1fed2-5dd3-4009-a0a8-defbd147d868",
   "metadata": {},
   "source": [
    "### When can you encounter this warning?"
   ]
  },
  {
   "cell_type": "raw",
   "id": "9076d605-9daf-4005-ad74-8c776f2a303a",
   "metadata": {
    "editable": true,
    "raw_mimetype": "text/restructuredtext",
    "slideshow": {
     "slide_type": ""
    },
    "tags": []
   },
   "source": [
    "You can encounter this warning when creating a :py:class:`~thebeat.core.SoundSequence` object."
   ]
  },
  {
   "cell_type": "markdown",
   "id": "fee7026d-d113-420f-b4f8-e0ec4feb77c7",
   "metadata": {},
   "source": [
    "### What is the reason for this warning?"
   ]
  },
  {
   "cell_type": "raw",
   "id": "9ba329fb-4a7e-48c9-8a7a-a49560f9489c",
   "metadata": {
    "raw_mimetype": "text/restructuredtext",
    "tags": []
   },
   "source": [
    "Digital sounds contain a certain number of 'samples'. The samples are the points at which the amplitude of the sound is specified. There is a fixed number of samples per second (the default in *thebeat* is ``48000``, another common value is ``44100``). When creating a :py:class:`~thebeat.core.SoundSequence` object, *thebeat* tries to place each individual sound at its respective onset (i.e. *t* value). The onset is then calculated in terms of the specific sample at which the sound should start, but if the onsets specified in the passed :py:class:`~thebeat.core.Sequence` object do not correspond to a round-number sample (i.e. it falls in between two samples), the exact sample onset is rounded off."
   ]
  },
  {
   "cell_type": "markdown",
   "id": "bf4afc5a-3cc4-42ce-a8e2-434e1953d38b",
   "metadata": {},
   "source": [
    "### What is the solution?"
   ]
  },
  {
   "cell_type": "raw",
   "id": "0a5cc331-bd15-4274-8f56-0494ff4babf4",
   "metadata": {
    "raw_mimetype": "text/restructuredtext",
    "tags": []
   },
   "source": [
    "As the warning specifies, try rounding off the :py:class:`~thebeat.core.Sequence` object's onsets *before* constructing the :py:class:`~thebeat.core.SoundSequence` object."
   ]
  },
  {
   "cell_type": "markdown",
   "id": "5e4e3fba-0b5c-42a1-bf94-e1298eec86ce",
   "metadata": {},
   "source": [
    "### Example with warning"
   ]
  },
  {
   "cell_type": "code",
   "execution_count": null,
   "id": "73486568-73b7-48db-accd-5f9ac0e28354",
   "metadata": {},
   "outputs": [],
   "source": [
    "from thebeat import Sequence, SoundStimulus, SoundSequence\n",
    "\n",
    "sound = SoundStimulus.generate()\n",
    "sequence = Sequence.generate_random_normal(n_events=10, mu=500, sigma=25)\n",
    "print(sequence)\n",
    "ss = SoundSequence(sound, sequence)"
   ]
  },
  {
   "cell_type": "markdown",
   "id": "1b98c3bc-3cf7-4eee-b45d-9c0b58954b69",
   "metadata": {},
   "source": [
    "### Example without warning"
   ]
  },
  {
   "cell_type": "code",
   "execution_count": null,
   "id": "c2916a4c-0ed9-4303-a5c2-dbaa97faa519",
   "metadata": {},
   "outputs": [],
   "source": [
    "from thebeat import Sequence, SoundStimulus, SoundSequence\n",
    "\n",
    "sound = SoundStimulus.generate()\n",
    "sequence = Sequence.generate_random_normal(n_events=10, mu=500, sigma=25)\n",
    "sequence.round_onsets(decimals=2)\n",
    "print(sequence)\n",
    "ss = SoundSequence(sound, sequence)"
   ]
  },
  {
   "cell_type": "markdown",
   "id": "6b522274-5b75-4ece-a95d-7e002e60a74d",
   "metadata": {
    "tags": []
   },
   "source": [
    "## Normalization\n",
    "\n",
    "### What does the warning look like?\n",
    "\n",
    "<div class=\"alert alert-danger\">\n",
    "    \n",
    "Sound was normalized to avoid distortion. If undesirable, change the amplitude of the sounds.\n",
    "</div>\n",
    "\n",
    "### When can you encounter this warning?"
   ]
  },
  {
   "cell_type": "raw",
   "id": "797121e3-de58-42b1-b0dd-438fba08340c",
   "metadata": {
    "raw_mimetype": "text/restructuredtext",
    "tags": []
   },
   "source": [
    "You can encounter this warning when creating a :py:class:`~thebeat.core.SoundSequence`, :py:class:`~thebeat.music.Melody`, or :py:class:`~thebeat.core.SoundStimulus` object.\n",
    "The most common is when overlaying sounds. Consider the following code:"
   ]
  },
  {
   "cell_type": "code",
   "execution_count": null,
   "id": "629e59b4-dfbd-42d0-a9f3-d301c4cb1cd2",
   "metadata": {},
   "outputs": [],
   "source": [
    "from thebeat import SoundStimulus\n",
    "\n",
    "stim_0 = SoundStimulus.generate()\n",
    "stim_0.plot_waveform(title=\"stim_0\")\n",
    "stim_1 = SoundStimulus.generate()\n",
    "stim_1.plot_waveform(title=\"stim_1\")\n",
    "\n",
    "stim_overlayed = stim_0.merge(stim_1)"
   ]
  },
  {
   "cell_type": "markdown",
   "id": "c53779b5-cacb-4c83-b1a3-696cb56f8b6f",
   "metadata": {},
   "source": [
    "As you can see the amplitudes of the two stimuli run from -1 to 1. When these sounds are overlayed both sounds' amplitudes are summed. The overlayed sound would therefore have amplitudes that run from -2 to 2, resulting in distorted sound. *thebeat* automatically normalizes the sound so that the amplitudes run from -1 to 1 again."
   ]
  },
  {
   "cell_type": "markdown",
   "id": "1b9d53ac-5639-4431-914f-7c67435878cc",
   "metadata": {},
   "source": [
    "### What is the solution?\n",
    "\n",
    "As the warning specifies, you can change the amplitude of the sounds before overlaying them. This also ensures that sounds with a different frequency will be equally loud, for instance:"
   ]
  },
  {
   "cell_type": "code",
   "execution_count": null,
   "id": "418958d0-00d3-4137-bc97-8d3b6c23a05e",
   "metadata": {},
   "outputs": [],
   "source": [
    "from thebeat import SoundStimulus\n",
    "stim_0 = SoundStimulus.generate(freq=220)\n",
    "stim_0.change_amplitude(factor=0.7)\n",
    "stim_1 = SoundStimulus.generate(freq=440)\n",
    "stim_1.change_amplitude(factor=0.3)\n",
    "\n",
    "stim_overlayed = stim_0.merge(stim_1)"
   ]
  },
  {
   "cell_type": "markdown",
   "id": "8508acdf-935e-41d3-94b6-62d0b62b40d2",
   "metadata": {
    "tags": []
   },
   "source": [
    "## Getting rid of a specific warning\n",
    "While it is better to find the cause of the warning and to solve it there, during development it might be frustrating to get these warnings, especially if you they are not relevant to your situation. To disable a specific warning use the ``message`` argument in [``warnings.filterwarnings()``](https://docs.python.org/3/library/warnings.html#warnings.filterwarnings). You don't have to type the whole message, just part of it, for instance:"
   ]
  },
  {
   "cell_type": "code",
   "execution_count": null,
   "id": "477ba333-1569-423c-bf2a-670a9638d173",
   "metadata": {},
   "outputs": [],
   "source": [
    "import warnings\n",
    "warnings.filterwarnings('ignore', message=\"thebeat: For one or more of the used sounds\")"
   ]
  },
  {
   "cell_type": "markdown",
   "id": "b46a2c6f-4b74-4060-9f4e-89e94301675c",
   "metadata": {},
   "source": [
    "## Getting rid of all of thebeat's warnings\n",
    "All of *thebeat*'s warnings start with the message 'thebeat'. You can thus filter all *thebeat*'s warning like so:"
   ]
  },
  {
   "cell_type": "code",
   "execution_count": null,
   "id": "6272b6e0-5e12-4ce0-ab71-2aa86148b38b",
   "metadata": {
    "tags": []
   },
   "outputs": [],
   "source": [
    "import warnings\n",
    "warnings.filterwarnings('ignore', message=\"thebeat: \")"
   ]
  },
  {
   "cell_type": "markdown",
   "id": "41febdc5-6c24-466d-8141-41de423fec35",
   "metadata": {
    "tags": []
   },
   "source": [
    "## Resetting warnings\n",
    "To reset the warnings back to their original behaviour, use:"
   ]
  },
  {
   "cell_type": "code",
   "execution_count": null,
   "id": "b4b1f4c0-19cb-451a-ae82-8d6df41e89ba",
   "metadata": {
    "tags": []
   },
   "outputs": [],
   "source": [
    "warnings.resetwarnings()"
   ]
  }
 ],
 "metadata": {
  "kernelspec": {
   "display_name": "venv",
   "language": "python",
   "name": "python3"
  },
  "language_info": {
   "codemirror_mode": {
    "name": "ipython",
    "version": 3
   },
   "file_extension": ".py",
   "mimetype": "text/x-python",
   "name": "python",
   "nbconvert_exporter": "python",
   "pygments_lexer": "ipython3",
   "version": "3.9.6"
  }
 },
 "nbformat": 4,
 "nbformat_minor": 5
}
