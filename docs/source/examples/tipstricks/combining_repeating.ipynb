{
 "cells": [
  {
   "cell_type": "markdown",
   "id": "bdab2a16-2b8d-406c-82eb-8c961c953a90",
   "metadata": {},
   "source": [
    "# Merging, concatenating, and repeating objects\n",
    "*thebeat* contains a number of functions for manipulating existing objects. These are useful when combining different types of sequences, or when creating complex sound stimuli.\n",
    "\n",
    "Before we begin, we import the used object classes:"
   ]
  },
  {
   "cell_type": "code",
   "execution_count": null,
   "id": "2d57fcff-dad5-4aa8-982e-a35f5ee9ae44",
   "metadata": {},
   "outputs": [],
   "source": [
    "from thebeat.core import Sequence, SoundStimulus, SoundSequence\n",
    "from thebeat.music import Rhythm"
   ]
  },
  {
   "cell_type": "code",
   "execution_count": null,
   "id": "db1bd593-5359-41ba-ac96-7acc46597430",
   "metadata": {
    "nbsphinx": "hidden",
    "tags": []
   },
   "outputs": [],
   "source": [
    "# We suppress warnings, but let's hide that to avoid confusion\n",
    "import warnings\n",
    "warnings.filterwarnings('ignore')\n",
    "%matplotlib inline"
   ]
  },
  {
   "cell_type": "markdown",
   "id": "5f4186c6-0e8f-4de4-bb85-7c3fe9bb403f",
   "metadata": {},
   "source": [
    "## Concatenating objects"
   ]
  },
  {
   "cell_type": "raw",
   "id": "703fef9b-4379-4e92-aaa1-9b5ff102e12b",
   "metadata": {
    "raw_mimetype": "text/restructuredtext",
    "tags": []
   },
   "source": [
    "We can elongate and combine :py:class:`~thebeat.core.Sequence`, :py:class:`~thebeat.music.Rhythm`, :py:class:`~thebeat.core.SoundStimulus` and :py:class:`~thebeat.core.SoundSequence` objects, simply by using an asterisk to multiply, or a plus-sign to concatenate.\n",
    "\n",
    "Note that :py:class:`~thebeat.core.Sequence` and :py:class:`~thebeat.core.SoundSequence` objects must end with an interval. Otherwise, we do not know what interval to place between the offset of the final event in the first sequence and the onset of the first event in the next sequence. Consider the example below in which we multiply a :py:class:`~thebeat.core.Sequence` object 10 times."
   ]
  },
  {
   "cell_type": "markdown",
   "id": "136707a2-ddfc-4c61-9e01-eccf73321419",
   "metadata": {},
   "source": [
    "### ``Sequence``"
   ]
  },
  {
   "cell_type": "code",
   "execution_count": null,
   "id": "3fa58ac1-ae58-4343-bca8-b0376c508ece",
   "metadata": {},
   "outputs": [],
   "source": [
    "# Initial sequence\n",
    "seq = Sequence.generate_random_normal(n_events=10, \n",
    "                                      mu=500, \n",
    "                                      sigma=50, \n",
    "                                      end_with_interval=True)\n",
    "seq.plot_sequence();\n",
    "\n",
    "# Repeat sequence 10 times and plot\n",
    "seq_longrepeats = seq * 10\n",
    "seq_longrepeats.plot_sequence();"
   ]
  },
  {
   "cell_type": "markdown",
   "id": "de6ca9d5-c816-49ea-a32b-560512db30fe",
   "metadata": {},
   "source": [
    "---"
   ]
  },
  {
   "cell_type": "markdown",
   "id": "5d0cfa17-fcf1-4a7c-9638-6db9e007e7fc",
   "metadata": {},
   "source": [
    "### ``Rhythm``"
   ]
  },
  {
   "cell_type": "raw",
   "id": "3fcb8e56-2629-4d6b-87fa-2aa80b5902db",
   "metadata": {
    "raw_mimetype": "text/restructuredtext",
    "tags": []
   },
   "source": [
    "For :py:class:`~thebeat.music.Rhythm` objects we can do the exact same manipulations. But let's now try to add two together instead of multiplying them by a number."
   ]
  },
  {
   "cell_type": "code",
   "execution_count": null,
   "id": "ffb55c95-426b-403d-923f-8fee30e49fb9",
   "metadata": {},
   "outputs": [],
   "source": [
    "rhythm1 = Rhythm.from_integer_ratios([1, 1, 2])\n",
    "rhythm2 = Rhythm.from_integer_ratios([2, 1, 1])\n",
    "rhythm = rhythm1 + rhythm2\n",
    "rhythm.plot_rhythm(dpi=600, staff_type=\"percussion\");"
   ]
  },
  {
   "cell_type": "markdown",
   "id": "de39abb7-5bc2-43fc-b475-e14558b668dd",
   "metadata": {},
   "source": [
    "---"
   ]
  },
  {
   "cell_type": "markdown",
   "id": "42b0d0be-a965-4298-b431-fae09b8a4074",
   "metadata": {},
   "source": [
    "### ``SoundStimulus``"
   ]
  },
  {
   "cell_type": "raw",
   "id": "37de21c7-be02-40c8-a3e2-76a5f6833b00",
   "metadata": {
    "raw_mimetype": "text/restructuredtext",
    "tags": []
   },
   "source": [
    ":py:class:`~thebeat.core.SoundStimulus` objects can be concatenated in much the same way:"
   ]
  },
  {
   "cell_type": "code",
   "execution_count": null,
   "id": "688d5f5d-c8e6-46ed-b8c3-c77f80e33277",
   "metadata": {},
   "outputs": [],
   "source": [
    "sound1 = SoundStimulus.generate(freq=100, duration_ms=100)\n",
    "sound2 = SoundStimulus.generate(freq=400, duration_ms=100)\n",
    "sound = sound1 + sound2\n",
    "sound.plot_waveform();"
   ]
  },
  {
   "cell_type": "markdown",
   "id": "414c0ab0-5b29-4e46-94b7-4dce075bab27",
   "metadata": {},
   "source": [
    "### ``SoundSequence``"
   ]
  },
  {
   "cell_type": "markdown",
   "id": "35a8d873-d7ba-4f3a-afda-5137a824e57c",
   "metadata": {},
   "source": [
    "As a final example, we will combine two SoundSequence objects:"
   ]
  },
  {
   "cell_type": "code",
   "execution_count": null,
   "id": "418e5275-fd9e-49d3-9fee-0e043892a57e",
   "metadata": {},
   "outputs": [],
   "source": [
    "stim = SoundStimulus.generate()\n",
    "\n",
    "seq1 = Sequence.generate_random_normal(n_events=5, mu=500, sigma=20, end_with_interval=True)\n",
    "seq2 = Sequence.generate_random_normal(n_events=5, mu=500, sigma=20, end_with_interval=True)\n",
    "\n",
    "stimseq1 = SoundSequence(stim, seq1)\n",
    "stimseq2 = SoundSequence(stim, seq2)\n",
    "\n",
    "trial = stimseq1 + stimseq2\n",
    "trial.plot_waveform();"
   ]
  },
  {
   "cell_type": "markdown",
   "id": "d9c2ef7b-6eed-4de4-8690-4292a899c779",
   "metadata": {},
   "source": [
    "## Merging objects"
   ]
  },
  {
   "cell_type": "raw",
   "id": "69b2137f-8a80-41a2-9c93-e3bcada35228",
   "metadata": {
    "raw_mimetype": "text/restructuredtext",
    "tags": []
   },
   "source": [
    "Rather than concatenating objects, we can also merge (overlay) them. There are two ways of doing this. Either we use an object's ``.merge()`` method, and pass another object as the first argument. Alternatively, we can use the 'merge' functions from :py:mod:`thebeat.utils`."
   ]
  },
  {
   "cell_type": "markdown",
   "id": "60930abf-e85b-4212-ba18-e4b1d4a4c90b",
   "metadata": {},
   "source": [
    "### ``Sequence``"
   ]
  },
  {
   "cell_type": "raw",
   "id": "4ac0b973-f28a-4fab-9865-d3181a4b2f13",
   "metadata": {
    "raw_mimetype": "text/restructuredtext",
    "tags": []
   },
   "source": [
    "When we merge two :py:class:`~thebeat.core.Sequence` objects we get a combination between the two. Consider the following code:"
   ]
  },
  {
   "cell_type": "code",
   "execution_count": null,
   "id": "feccb32d-0adc-4382-9b07-49d0fc932f19",
   "metadata": {},
   "outputs": [],
   "source": [
    "seq1 = Sequence.from_onsets([0, 500, 1000, 1500])\n",
    "seq2 = Sequence.from_onsets([250, 750, 1250, 1750])\n",
    "\n",
    "# Method 1\n",
    "seq = seq1.merge(seq2)\n",
    "\n",
    "# Method 2\n",
    "from thebeat.utils import merge_sequences\n",
    "seq = merge_sequences([seq1, seq2])\n",
    "\n",
    "# Plot\n",
    "seq.plot_sequence();"
   ]
  },
  {
   "cell_type": "markdown",
   "id": "adf6710b-9ee2-4a7b-affe-4b8212215438",
   "metadata": {},
   "source": [
    "### ``SoundStimulus``: complex sounds"
   ]
  },
  {
   "cell_type": "raw",
   "id": "ec9d34ad-ba4f-473a-b5c6-3c2af481d8ce",
   "metadata": {
    "raw_mimetype": "text/restructuredtext",
    "tags": []
   },
   "source": [
    "We can merge multiple :py:class:`~thebeat.core.SoundStimulus` objects to create complex sounds. When we merge, the sounds are overlaid and normalized. Below, we combine a sine wave sound of 440Hz, and its first harmonic, which is 880Hz."
   ]
  },
  {
   "cell_type": "code",
   "execution_count": null,
   "id": "eca8c968-4cf6-41f4-8f24-290bc25fb35c",
   "metadata": {},
   "outputs": [],
   "source": [
    "stim_f0 = SoundStimulus.generate(freq=440, duration_ms=100)\n",
    "stim_f1 = SoundStimulus.generate(freq=880, duration_ms=100)\n",
    "\n",
    "# Method 1\n",
    "stim = stim_f0.merge(stim_f1)\n",
    "\n",
    "# Method 2\n",
    "from thebeat.utils import merge_soundstimuli\n",
    "stim = merge_soundstimuli([stim_f0, stim_f1])\n",
    "\n",
    "# Plot\n",
    "stim.plot_waveform();"
   ]
  },
  {
   "cell_type": "markdown",
   "id": "d1e130d4-80c9-4dc5-87da-5734cc8c1586",
   "metadata": {
    "tags": []
   },
   "source": [
    "### ``SoundSequence``"
   ]
  },
  {
   "cell_type": "raw",
   "id": "2c9f7271-91e3-4c4d-bc22-d1b5b6139b8e",
   "metadata": {
    "raw_mimetype": "text/restructuredtext",
    "tags": []
   },
   "source": [
    "Finally, we can merge :py:class:`~thebeat.core.SoundSequence` objects as well:"
   ]
  },
  {
   "cell_type": "code",
   "execution_count": null,
   "id": "11b99f2d-7e03-4996-92aa-9f9a4c2c4f48",
   "metadata": {},
   "outputs": [],
   "source": [
    "ss1 = SoundSequence(stim_f0, seq1)\n",
    "ss2 = SoundSequence(stim_f1, seq2)\n",
    "\n",
    "# Method 1\n",
    "ss = ss1.merge(ss2)\n",
    "\n",
    "# Method 2\n",
    "from thebeat.utils import merge_soundsequences\n",
    "ss = merge_soundsequences([ss1, ss2])\n",
    "\n",
    "#ss.play()"
   ]
  },
  {
   "cell_type": "raw",
   "id": "f032d0fe-7108-475c-8982-ea5b185a9e57",
   "metadata": {
    "raw_mimetype": "text/restructuredtext",
    "tags": []
   },
   "source": [
    "You can listen to the merged :py:class:`~thebeat.core.SoundSequence` below. In your IDE simply execute ``ss.play()``."
   ]
  },
  {
   "cell_type": "code",
   "execution_count": null,
   "id": "8d0801b5-fcf6-4c9a-8331-4115a2d595c6",
   "metadata": {
    "nbsphinx": "hidden",
    "tags": []
   },
   "outputs": [],
   "source": [
    "from IPython.display import Audio\n",
    "Audio(ss.samples, rate=ss.fs)"
   ]
  }
 ],
 "metadata": {
  "kernelspec": {
   "display_name": "Python 3 (ipykernel)",
   "language": "python",
   "name": "python3"
  },
  "language_info": {
   "codemirror_mode": {
    "name": "ipython",
    "version": 3
   },
   "file_extension": ".py",
   "mimetype": "text/x-python",
   "name": "python",
   "nbconvert_exporter": "python",
   "pygments_lexer": "ipython3",
   "version": "3.9.16"
  }
 },
 "nbformat": 4,
 "nbformat_minor": 5
}
