{
 "cells": [
  {
   "cell_type": "markdown",
   "id": "b9cd0898-9bc0-4f1a-88d3-e07b7727d240",
   "metadata": {},
   "source": [
    "# Saving and manipulating plots"
   ]
  },
  {
   "cell_type": "raw",
   "id": "ee3d7dfd-57cc-4abf-9d8d-8a66e36717bc",
   "metadata": {
    "raw_mimetype": "text/restructuredtext",
    "tags": []
   },
   "source": [
    "Saving or manipulating plots is easy. All `thebeat`'s plotting functions internally use `matplotlib <https://matplotlib.org/>`_. The functions return a :class:`matplotlib.figure.Figure` object, representing the entire plot, and a :class:`matplotlib.axes.Axes` object, which represents the actual graph in the plot. These objects we can use to save or manipulate the plots."
   ]
  },
  {
   "cell_type": "markdown",
   "id": "697f730a-21d7-4496-aeb7-c692d64628c6",
   "metadata": {},
   "source": [
    "---\n",
    "\n",
    "## Saving plots"
   ]
  },
  {
   "cell_type": "raw",
   "id": "e72b7277-30a3-48e9-b486-1e44611ac742",
   "metadata": {
    "raw_mimetype": "text/restructuredtext",
    "tags": []
   },
   "source": [
    "In the example below we create a recurrence plot, and save it to disk using :meth:`~matplotlib.figure.Figure.savefig`. We ask for a plot with a dpi of 600, so we get better quality."
   ]
  },
  {
   "cell_type": "code",
   "execution_count": null,
   "id": "bbeac28b-faed-45c2-b46b-2bae803318a8",
   "metadata": {
    "nbsphinx": "hidden",
    "tags": []
   },
   "outputs": [],
   "source": [
    "import warnings\n",
    "warnings.filterwarnings('ignore', message=\"Matplotlib \")\n",
    "warnings.filterwarnings('ignore', message=\"FixedFormatter \")\n",
    "%matplotlib inline"
   ]
  },
  {
   "cell_type": "code",
   "execution_count": null,
   "id": "1ce85949-eeea-4b56-a5ea-fc98ee09a20f",
   "metadata": {},
   "outputs": [],
   "source": [
    "from thebeat import Sequence\n",
    "from thebeat.visualization import recurrence_plot\n",
    "\n",
    "seq = Sequence(iois=[300, 400, 300, 400])\n",
    "fig, ax = recurrence_plot(seq, dpi=600)\n",
    "fig.savefig('recurrence_plot.png')"
   ]
  },
  {
   "cell_type": "markdown",
   "id": "92534175-a96f-4f17-8a46-81ffa58ccb68",
   "metadata": {},
   "source": [
    "## Adding in title, x_axis label etc.\n",
    "*thebeat*'s plotting functions contain a few arguments for commonly encountered manipulations, such as adding in a title, changing the figure size, etc. These are the so-called keyword arguments (``**kwargs``). "
   ]
  },
  {
   "cell_type": "raw",
   "id": "75539a84-5512-422b-ac37-d2655b0d7aa5",
   "metadata": {
    "raw_mimetype": "text/restructuredtext",
    "tags": []
   },
   "source": [
    "To see a list of available keyword arguments, see e.g. :py:func:`thebeat.helpers.plot_single_sequence`."
   ]
  },
  {
   "cell_type": "markdown",
   "id": "d55691b2-2fbf-4cc9-b155-3a53bf08efe8",
   "metadata": {},
   "source": [
    "## Manipulating plots"
   ]
  },
  {
   "cell_type": "raw",
   "id": "a527cddb-badd-4022-a2b4-60a52479a6ba",
   "metadata": {
    "raw_mimetype": "text/restructuredtext",
    "tags": []
   },
   "source": [
    "Manipulating plots works similarly. We can use the resulting :class:`matplotlib.figure.Figure` and :class:`matplotlib.axes.Axes` objects for manipulation, and only show the figure afterwards."
   ]
  },
  {
   "cell_type": "code",
   "execution_count": null,
   "id": "7fa03aa9-55c2-4df0-a2b5-891324403b74",
   "metadata": {},
   "outputs": [],
   "source": [
    "fig, ax = recurrence_plot(seq, suppress_display=True)\n",
    "ax.set_xticklabels([0, 1, 2, 3, 4], fontsize=18)\n",
    "fig.show()"
   ]
  },
  {
   "cell_type": "raw",
   "id": "4df58188-4101-4c08-ab04-b2bcbc9fc7dd",
   "metadata": {
    "raw_mimetype": "text/restructuredtext",
    "tags": []
   },
   "source": [
    "More info on how to manipulate plots can be found in the `matplotlib documentation <https://matplotlib.org/stable/>`_."
   ]
  }
 ],
 "metadata": {
  "kernelspec": {
   "display_name": "Python 3 (ipykernel)",
   "language": "python",
   "name": "python3"
  },
  "language_info": {
   "codemirror_mode": {
    "name": "ipython",
    "version": 3
   },
   "file_extension": ".py",
   "mimetype": "text/x-python",
   "name": "python",
   "nbconvert_exporter": "python",
   "pygments_lexer": "ipython3",
   "version": "3.11.4"
  }
 },
 "nbformat": 4,
 "nbformat_minor": 5
}
