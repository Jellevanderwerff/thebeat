{
 "cells": [
  {
   "cell_type": "markdown",
   "metadata": {
    "pycharm": {
     "name": "#%% md\n"
    }
   },
   "source": [
    "# Beat-finding using autocorrelations\n",
    "In this snippet we learn how to do some beat-finding using autocorrelations.\n",
    "\n",
    "First, let's import the necessary functions and classes:"
   ]
  },
  {
   "cell_type": "code",
   "execution_count": null,
   "metadata": {
    "pycharm": {
     "name": "#%%\n"
    }
   },
   "outputs": [],
   "source": [
    "from thebeat.core import Sequence\n",
    "from thebeat.stats import acf_df, acf_plot, acf_values\n",
    "import numpy as np\n",
    "import scipy.signal"
   ]
  },
  {
   "cell_type": "code",
   "execution_count": null,
   "metadata": {
    "nbsphinx": "hidden",
    "tags": []
   },
   "outputs": [],
   "source": [
    "# We suppress warnings, but let's hide that to avoid confusion\n",
    "import warnings\n",
    "warnings.filterwarnings('ignore')\n",
    "%matplotlib inline"
   ]
  },
  {
   "cell_type": "raw",
   "metadata": {
    "pycharm": {
     "name": "#%% md\n"
    },
    "raw_mimetype": "text/restructuredtext"
   },
   "source": [
    "Plotting ACF\n",
    "------------\n",
    "\n",
    "The autocorrelation function (ACF) is best represented in a plot, where on the `x` axis we have the autocorrelation\n",
    "lags (which for us correspond to timestamps), and on the y axis we have the correlation coefficient.\n",
    "\n",
    "We can use such a function to find an underlying inter-onset interval (IOI) that describes our sequence well.\n",
    "\n",
    "First let's create a :py:class:`~thebeat.core.Sequence` object with inter-onset intervals (IOIs) sampled from a normal distribution\n",
    "(so we have some noise in there), and then plot the sequence using :py:func:`thebeat.stats.acf_plot`. We supply a resolution; for sequences that use milliseconds as the time unit, this will likely be 1. For seconds, it will be 0.01."
   ]
  },
  {
   "cell_type": "code",
   "execution_count": null,
   "metadata": {
    "pycharm": {
     "name": "#%%\n"
    }
   },
   "outputs": [],
   "source": [
    "# We use a Generator object with a seed so you will get the same results as we:\n",
    "rng = np.random.default_rng(seed=123)\n",
    "\n",
    "seq = Sequence.generate_random_normal(n_events=20, mu=500, sigma=40, rng=rng)\n",
    "acf_plot(seq, resolution=1);"
   ]
  },
  {
   "cell_type": "raw",
   "metadata": {
    "pycharm": {
     "name": "#%% md\n"
    },
    "raw_mimetype": "text/restructuredtext"
   },
   "source": [
    "Now, that's a bit disappointing. We don't see any clear peaks, even though we might expect one\n",
    "at the mean of the distribution (500 ms).\n",
    "\n",
    "To improve the plot, we use the smoothing parameters, which under the hood convolve tiny normal distributions\n",
    "with the acf function at each step (where the steps are of size ``resolution``).\n",
    "\n",
    "So let's try that:"
   ]
  },
  {
   "cell_type": "code",
   "execution_count": null,
   "metadata": {
    "pycharm": {
     "name": "#%%\n"
    }
   },
   "outputs": [],
   "source": [
    "acf_plot(seq, resolution=1, smoothing_window=100, smoothing_sd=20);"
   ]
  },
  {
   "cell_type": "raw",
   "metadata": {
    "pycharm": {
     "name": "#%% md\n"
    },
    "raw_mimetype": "text/restructuredtext"
   },
   "source": [
    "Now that looks way better, and now we do see clear peaks at 500 ms, 1000 ms, etc.\n",
    "\n",
    "Of course, the more we smoothe, the less accurately that IOI represents the sequence. So be careful with that, and\n",
    "afterwards use e.g. the :py:func:`thebeat.stats.get_ugof_isochronous` function to calculate how well the sequence is described by the found IOI.\n",
    "\n",
    "Finding the IOIs\n",
    "----------------\n",
    "\n",
    "From the plot we cannot say exactly where the peaks lie. If we want to find the exact values we can use\n",
    ":func:`scipy.signal.find_peaks`.\n",
    "\n",
    "For this method, we need the actual values from the ACF function, which we can get using :py:func:`thebeat.stats.acf_values`.\n",
    "Then, we use :func:`scipy.signal.find_peaks` to find the peaks."
   ]
  },
  {
   "cell_type": "code",
   "execution_count": null,
   "metadata": {
    "pycharm": {
     "name": "#%%\n"
    }
   },
   "outputs": [],
   "source": [
    "# We use a Generator object with a seed so you will get the same results as we:\n",
    "correlation_factors = acf_values(seq, resolution=1, smoothing_window=100, smoothing_sd=20)\n",
    "\n",
    "peaks = scipy.signal.find_peaks(correlation_factors)\n",
    "print(peaks)"
   ]
  },
  {
   "cell_type": "markdown",
   "metadata": {
    "pycharm": {
     "name": "#%% md\n"
    },
    "raw_mimetype": "text/restructuredtext"
   },
   "source": [
    "As such, we can see where the peaks lie.\n",
    "\n",
    "---"
   ]
  },
  {
   "cell_type": "raw",
   "metadata": {
    "pycharm": {
     "name": "#%% md\n"
    },
    "raw_mimetype": "text/restructuredtext"
   },
   "source": [
    "An important thing to note is that if you use a different ``resolution`` than 1 (which is however the default), the peaks will correspond to the indices of ``acf_values``, where the indices are not timestamps.\n",
    "Multiply the array that :py:func:`thebeat.stats.acf_values` returns by ``resolution`` to get the original timestamps again.\n",
    "\n",
    "Also note that :func:`scipy.signal.find_peaks` returns a tuple\n",
    "containing an array with the peak values, and a ``properties`` dictionary, which is empty here. To get the array\n",
    "we must therefore use ``peaks[0]``."
   ]
  },
  {
   "cell_type": "code",
   "execution_count": null,
   "metadata": {
    "pycharm": {
     "name": "#%%\n"
    }
   },
   "outputs": [],
   "source": [
    "resolution = 10\n",
    "\n",
    "correlation_factors = acf_values(seq,\n",
    "                                 resolution=resolution,\n",
    "                                 smoothing_window=100,\n",
    "                                 smoothing_sd=20)\n",
    "\n",
    "peaks = scipy.signal.find_peaks(correlation_factors)\n",
    "peaks = peaks[0] * resolution\n",
    "print(peaks)"
   ]
  },
  {
   "cell_type": "raw",
   "metadata": {
    "raw_mimetype": "text/restructuredtext",
    "tags": []
   },
   "source": [
    "Plotting\n",
    "--------\n",
    "\n",
    "We can then easily plot a Sequence and its isochronous description using :py:class:`thebeat.visualization.plot_multiple_sequences`:"
   ]
  },
  {
   "cell_type": "code",
   "execution_count": null,
   "metadata": {},
   "outputs": [],
   "source": [
    "# Plot\n",
    "from thebeat.visualization import plot_multiple_sequences\n",
    "from thebeat.stats import get_ugof_isochronous\n",
    "\n",
    "# Make isochronous sequence\n",
    "seq_isoc = Sequence.generate_isochronous(n_events=20, ioi=peaks[0])\n",
    "\n",
    "fig, ax = plot_multiple_sequences([seq_isoc, seq],\n",
    "                                  figsize=(10, 4),\n",
    "                                  y_axis_labels=['Theoretical beat', 'Random sequence'],\n",
    "                                  suppress_display=True)\n",
    "\n",
    "\n",
    "# Add box with ugof\n",
    "ugof_round = str(round(get_ugof_isochronous(seq, peaks[1]), 2))\n",
    "box_properties = dict(boxstyle='round', facecolor='white', alpha=0.7)\n",
    "ax.text(8400, 1.25, s=f\"ugof = {ugof_round}\", bbox=box_properties, fontsize=14);\n",
    "fig.show()"
   ]
  },
  {
   "cell_type": "raw",
   "metadata": {
    "pycharm": {
     "name": "#%% md\n"
    },
    "raw_mimetype": "text/restructuredtext"
   },
   "source": [
    "Getting a Pandas dictionary of correlation factors\n",
    "--------------------------------------------------\n",
    "\n",
    "The :py:mod:`thebeat.stats` module contains an additional function, :py:func:`thebeat.stats.acf_df`, which returns a :class:`pandas.DataFrame` containing the timestamps and the correlation factors."
   ]
  },
  {
   "cell_type": "code",
   "execution_count": null,
   "metadata": {
    "pycharm": {
     "name": "#%%\n"
    }
   },
   "outputs": [],
   "source": [
    "seq = Sequence.generate_random_normal(n_events=20, mu=500, sigma=25, rng=rng)\n",
    "\n",
    "df = acf_df(seq, resolution=1, smoothing_window=10, smoothing_sd=2)\n",
    "print(df)"
   ]
  },
  {
   "cell_type": "markdown",
   "metadata": {
    "pycharm": {
     "name": "#%% md\n"
    }
   },
   "source": [
    "Let's sort this dataframe by the correlation factor:"
   ]
  },
  {
   "cell_type": "code",
   "execution_count": null,
   "metadata": {
    "pycharm": {
     "name": "#%%\n"
    }
   },
   "outputs": [],
   "source": [
    "df = df.sort_values(by=\"correlation\", ascending=False)"
   ]
  }
 ],
 "metadata": {
  "celltoolbar": "Raw-celnotatie",
  "kernelspec": {
   "display_name": "venv",
   "language": "python",
   "name": "python3"
  },
  "language_info": {
   "codemirror_mode": {
    "name": "ipython",
    "version": 3
   },
   "file_extension": ".py",
   "mimetype": "text/x-python",
   "name": "python",
   "nbconvert_exporter": "python",
   "pygments_lexer": "ipython3",
   "version": "3.9.6"
  }
 },
 "nbformat": 4,
 "nbformat_minor": 4
}
