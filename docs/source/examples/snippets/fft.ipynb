{
 "cells": [
  {
   "cell_type": "markdown",
   "id": "92ba9a39-2946-4a5c-bfe3-ba5521d9eb67",
   "metadata": {},
   "source": [
    "# Beat-finding using Fourier transform"
   ]
  },
  {
   "cell_type": "markdown",
   "id": "b04f9ec5-30b3-402c-b4e3-4caef503e9e1",
   "metadata": {},
   "source": [
    "Finding a best-describing underlying beat in a sequence can be done using [Fourier transforms](https://en.wikipedia.org/wiki/Fourier_transform), where we decompose a signal into its frequency components."
   ]
  },
  {
   "cell_type": "code",
   "execution_count": null,
   "id": "d815f25c-825d-4702-8db0-2f2d471773b0",
   "metadata": {
    "nbsphinx": "hidden",
    "tags": []
   },
   "outputs": [],
   "source": [
    "%matplotlib inline\n",
    "import warnings\n",
    "warnings.filterwarnings('ignore', message=\"Matplotlib \")"
   ]
  },
  {
   "cell_type": "raw",
   "id": "373f77e9-7dd5-432b-a7b5-f266e5952b15",
   "metadata": {
    "raw_mimetype": "text/restructuredtext",
    "tags": []
   },
   "source": [
    "Using `thebeat` this is a piece of cake. We use the :py:func:`thebeat.stats.fft_plot` function to plot the Fourier transform. On the `x` axis will be the number of cycles per 'unit'. The unit size depends on the time unit used when creating the :py:class:`~thebeat.core.Sequence` objects. If you used seconds, the unit size is 1. If you used milliseconds, the unit size is 1000."
   ]
  },
  {
   "cell_type": "markdown",
   "id": "96bb4d18-a3a9-4ad2-a2ea-fb93032b916d",
   "metadata": {},
   "source": [
    "We create an example sequence, and initiate a random number generator with a seed, so you will get the same output as we:"
   ]
  },
  {
   "cell_type": "code",
   "execution_count": null,
   "id": "9e4cb8db-6dad-423a-8673-d11d766beff1",
   "metadata": {},
   "outputs": [],
   "source": [
    "from thebeat import Sequence\n",
    "import numpy as np\n",
    "\n",
    "rng = np.random.default_rng(seed=123)\n",
    "\n",
    "seq = Sequence.generate_random_normal(n_events=100, mu=500, sigma=25, rng=rng)"
   ]
  },
  {
   "cell_type": "markdown",
   "id": "267aea42-dde8-4ced-9896-2371875f625e",
   "metadata": {},
   "source": [
    "Now we plot the Fourier transform. Because we created our Sequence object using millisecond values, we will choose a unit size of 1000."
   ]
  },
  {
   "cell_type": "code",
   "execution_count": null,
   "id": "b03aade9-30dd-4f44-9ebc-51b60cd988f2",
   "metadata": {},
   "outputs": [],
   "source": [
    "from thebeat.stats import fft_plot\n",
    "\n",
    "fft_plot(seq, unit_size=1000);"
   ]
  },
  {
   "cell_type": "markdown",
   "id": "d61ad46e-3782-48d6-be68-da114d37e679",
   "metadata": {},
   "source": [
    "On the x axis we see the number of 'cycles per second'. We chose a unit size of 1000 (ms), and so 100 cycles per unit in our case means 100 cycles per second. That's very fast, and we probably don't expect some sort of underlying beat to happen at that pace. So, we limit the x axis by setting ``x_max`` to 10 (i.e. 10 Hz, or a beat IOI of 100 ms, in our case)."
   ]
  },
  {
   "cell_type": "code",
   "execution_count": null,
   "id": "7517bda7-08be-4929-9fdd-48b5d0ac3148",
   "metadata": {},
   "outputs": [],
   "source": [
    "fft_plot(seq, unit_size=1000, x_max=10);"
   ]
  },
  {
   "cell_type": "markdown",
   "id": "d4b471e8-3595-4d40-b067-f12899a7ec30",
   "metadata": {},
   "source": [
    "We see a *very* clear peak at around 2 cycles per second, i.e. every 500 ms."
   ]
  },
  {
   "cell_type": "markdown",
   "id": "aec7bd18-9b68-455b-9585-db0193926216",
   "metadata": {},
   "source": [
    "---"
   ]
  },
  {
   "cell_type": "raw",
   "id": "387d2ca9-01ed-42e6-8c8c-062e3d009a33",
   "metadata": {
    "raw_mimetype": "text/restructuredtext",
    "tags": []
   },
   "source": [
    "If we want to know the exact number of cycles per unit of the peak, we can use another function in *thebeat*'s stats module, namely :py:func:`thebeat.stats.fft_values`, which returns the x and y values of the plot. We get the biggest y value that is not at x = 0 (which will always be the highest), and then use the index of that value to find the corresponding x value (i.e. the frequency/cycles per unit we're interested in). Like so:"
   ]
  },
  {
   "cell_type": "code",
   "execution_count": null,
   "id": "864b46ab-67e9-4b3b-8b1c-dad984be6d76",
   "metadata": {},
   "outputs": [],
   "source": [
    "from thebeat.stats import fft_values\n",
    "\n",
    "# Get x and y data\n",
    "x, y = fft_values(seq, unit_size=1000, x_max=10)\n",
    "\n",
    "# Subset data so that we skip the max power at x = 0\n",
    "x, y = x[1:], y[1:]\n",
    "\n",
    "# Get index of maximum y value\n",
    "max_y_index = np.argmax(y)\n",
    "max_x = x[max_y_index]\n",
    "print(f\"The largest peak is at {max_x} Hz\")\n",
    "print(f\"This corresponds to a beat IOI of {1000 / max_x} ms\")\n"
   ]
  }
 ],
 "metadata": {
  "kernelspec": {
   "display_name": "Python 3 (ipykernel)",
   "language": "python",
   "name": "python3"
  },
  "language_info": {
   "codemirror_mode": {
    "name": "ipython",
    "version": 3
   },
   "file_extension": ".py",
   "mimetype": "text/x-python",
   "name": "python",
   "nbconvert_exporter": "python",
   "pygments_lexer": "ipython3",
   "version": "3.11.4"
  }
 },
 "nbformat": 4,
 "nbformat_minor": 5
}
