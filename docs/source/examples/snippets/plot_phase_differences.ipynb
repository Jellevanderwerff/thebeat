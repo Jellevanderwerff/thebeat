{
 "cells": [
  {
   "cell_type": "markdown",
   "id": "85c03573-c804-4d48-ad5a-6b09f641acd7",
   "metadata": {},
   "source": [
    "# Plotting phase differences (circular plots)"
   ]
  },
  {
   "cell_type": "raw",
   "id": "7d645450-4aa5-496a-8528-db709d9ac78b",
   "metadata": {
    "raw_mimetype": "text/restructuredtext",
    "tags": []
   },
   "source": [
    "The standard way to represent event-based data is linearly; we plot the events with time on the x-axis. When we compare two sequences, say the stimuli and the responses from a `finger-tapping experiment <https://doi.org/10.3758/BF03206433>`_, often we take the absolute value for :math:`\\Delta t` so we can for instance take averages.\n",
    "\n",
    "To illustrate, consider a stimulus sequence with inter-onset intervals (IOIs) ``[500, 480, 510, 470]`` and a response sequence with IOIs ``[498, 482, 504, 476]``. The element-wise differences between stimulus and response are then: ``[-2, 2, -6, 6]``.\n",
    "\n",
    "To calculate the participant's total error we cannot simply take the sum or the average, because the positive and negative values will cancel out, and we end up with a score of 0, even though the participant was not perfect in their response.\n",
    "\n",
    "To mitigate this, people often only look at the absolute values, which would mean a total error score of 16 in the example. However, that does not indicate whether the participant on average was too early with their response, or too late.\n",
    "\n",
    "In response to this problem, over the years people have started using methods from circular statistics to capture all that lost data. Below are two examples, one in which we compare some random data to an isochronous sequence, and one in which we compare some actual stimulus and response finger-tapping data. In both cases we plot a circular histogram."
   ]
  },
  {
   "cell_type": "markdown",
   "id": "fd491ea9-67e1-4aaf-94cc-b0944295e74b",
   "metadata": {},
   "source": [
    "---"
   ]
  },
  {
   "cell_type": "markdown",
   "id": "be7bbcbe-08b6-4f87-bf6c-0c1d9c906fd1",
   "metadata": {},
   "source": [
    "We start by importing the necessary packages:"
   ]
  },
  {
   "cell_type": "code",
   "execution_count": null,
   "id": "06fc72f5-def0-4c7f-984f-8db163de61b7",
   "metadata": {},
   "outputs": [],
   "source": [
    "from thebeat import Sequence\n",
    "from thebeat.visualization import plot_phase_differences\n",
    "from thebeat.stats import get_phase_differences\n",
    "import numpy as np\n",
    "import pandas as pd"
   ]
  },
  {
   "cell_type": "code",
   "execution_count": null,
   "id": "e8ef55d0-114d-4180-b2be-2767b397daeb",
   "metadata": {
    "nbsphinx": "hidden",
    "tags": []
   },
   "outputs": [],
   "source": [
    "%matplotlib inline\n",
    "import warnings\n",
    "warnings.filterwarnings('ignore', message='Matplotlib ')"
   ]
  },
  {
   "cell_type": "markdown",
   "id": "62707849-bb2f-44f3-b7d4-5f0d68081d8f",
   "metadata": {},
   "source": [
    "## Example 1: Compare random data with isochronous sequence"
   ]
  },
  {
   "cell_type": "raw",
   "id": "f1defd07-51b5-4d0c-8b7b-f1f0756225eb",
   "metadata": {
    "raw_mimetype": "text/restructuredtext",
    "tags": []
   },
   "source": [
    "We will generate some random data, and plot them against an isochronous sequence. The :py:func:`~thebeat.visualization.plot_phase_differences` function takes a ``test_sequence`` and a ``reference_sequence`` as its arguments. Both can either be a single :py:class:`~thebeat.core.Sequence` object or a list or array of objects. However, for the ``reference_sequence`` we can also simply pass a number which represents the constant IOI of an isochronous sequence, which we will do below."
   ]
  },
  {
   "cell_type": "markdown",
   "id": "a03d629b-216c-4ed6-9826-a2b35e848b32",
   "metadata": {},
   "source": [
    "---"
   ]
  },
  {
   "cell_type": "markdown",
   "id": "7ee1d6ca-cf04-47bc-b917-8f116cba04be",
   "metadata": {},
   "source": [
    "First we take a look at what the behind-the-scenes data looks like, the phase differences themselves, here represented as degrees."
   ]
  },
  {
   "cell_type": "code",
   "execution_count": null,
   "id": "79e230ae-c042-4925-8e12-70cc254f4864",
   "metadata": {},
   "outputs": [],
   "source": [
    "# We create a random number generator with a seed so you get the same output as we.\n",
    "rng = np.random.default_rng(seed=123)\n",
    "\n",
    "# Create a random test sequence\n",
    "test = Sequence.generate_random_normal(n_events=10, mu=500, sigma=50, rng=rng)\n",
    "\n",
    "# Create an isochronous reference sequence\n",
    "ref = Sequence.generate_isochronous(n_events=10, ioi=500)\n",
    "\n",
    "# Get and print the phase differences\n",
    "phase_diffs = get_phase_differences(test, ref, unit=\"degrees\")\n",
    "print(phase_diffs)"
   ]
  },
  {
   "cell_type": "markdown",
   "id": "47fb8445-81d5-4fd6-94e5-b3b63a6324cc",
   "metadata": {},
   "source": [
    "---"
   ]
  },
  {
   "cell_type": "markdown",
   "id": "e12cd4c0-e956-4fc0-9a80-91afaf799067",
   "metadata": {},
   "source": [
    "So what does it look like in a circular histogram?"
   ]
  },
  {
   "cell_type": "code",
   "execution_count": null,
   "id": "c6e2fcb7-3ed3-4ab2-b2bb-41cc78a992bc",
   "metadata": {},
   "outputs": [],
   "source": [
    "test_seq = Sequence.generate_random_normal(n_events=1000, mu=500, sigma=50, rng=rng)\n",
    "ref_seq = Sequence.generate_isochronous(n_events=1000, ioi=500)\n",
    "\n",
    "plot_phase_differences(test_sequence=test_seq, reference_sequence=ref_seq);"
   ]
  },
  {
   "cell_type": "markdown",
   "id": "47141985-41a7-4d1f-a362-b99c131937ec",
   "metadata": {},
   "source": [
    "## Example 2: Finger-tapping data"
   ]
  },
  {
   "cell_type": "raw",
   "id": "11bbbbef-d385-4788-84d3-64a85d927ee2",
   "metadata": {
    "raw_mimetype": "text/restructuredtext",
    "tags": []
   },
   "source": [
    "The finger-tapping data from this example comes from an experiment in which participants were presented with highly irregular (anisochronous) sequences of sounds with the task 'tap along as best as you can'. The participants tapped with their index finger on a table, and these responses were measured.\n",
    "\n",
    "For simplicity, we only look at responses in which there was an equal number of taps to the number of events in the stimulus. This is because the :py:func:`~thebeat.visualization.plot_phase_differences` function works by comparing the events sequentially. As such, we cannot easily work with responses that have missing taps.\n",
    "\n",
    "We use `pandas <https://pandas.pydata.org/>`_ to work with the data. If any of the used methods there confuse you, please refer to `this pandas tutorial <https://pandas.pydata.org/docs/user_guide/10min.html>`_."
   ]
  },
  {
   "cell_type": "markdown",
   "id": "414796a9-4b12-4adf-bb77-ca5e50cb7aa1",
   "metadata": {},
   "source": [
    "---"
   ]
  },
  {
   "cell_type": "raw",
   "id": "3b810c1b-de20-4c69-8a10-ac8e892bd3fb",
   "metadata": {
    "raw_mimetype": "text/restructuredtext",
    "tags": []
   },
   "source": [
    "What we'll do is create a list of :py:class:`~thebeat.core.Sequence` objects that are the stimuli, and another list of :py:class:`~thebeat.core.Sequence` objects that are the responses. We can then element-wise compare them using the :py:func:`~thebeat.visualization.plot_phase_differences` function."
   ]
  },
  {
   "cell_type": "code",
   "execution_count": null,
   "id": "2e5aa0de-e725-4b1a-bf4e-10945900df3c",
   "metadata": {},
   "outputs": [],
   "source": [
    "# Change the path to the location of the dataset on your computer\n",
    "df = pd.read_csv('./sampjit_sampledata.csv')\n",
    "\n",
    "# Take a quick look at the data\n",
    "print(df.head(5))"
   ]
  },
  {
   "cell_type": "code",
   "execution_count": null,
   "id": "19c2930c",
   "metadata": {},
   "outputs": [],
   "source": [
    "# Load the dataset\n",
    "df = pd.read_csv('./sampjit_sampledata.csv')\n",
    "\n",
    "# Take a quick look at the data\n",
    "print(df.head(5))"
   ]
  },
  {
   "cell_type": "markdown",
   "id": "6d45e3b0-c6d9-4334-bbe7-952536200b25",
   "metadata": {},
   "source": [
    "---"
   ]
  },
  {
   "cell_type": "code",
   "execution_count": null,
   "id": "39359488-8176-484a-918f-10e9a2eb4596",
   "metadata": {},
   "outputs": [],
   "source": [
    "stimuli = []\n",
    "responses = []\n",
    "\n",
    "# We loop over the sequence id's\n",
    "for seq_id in df.sequence_id.unique():\n",
    "    # We get the relevant piece of the dataframe for that sequence id\n",
    "    df_piece = df.loc[df['sequence_id'] == seq_id]\n",
    "\n",
    "    # We create a Sequence object for the stimulus and the response\n",
    "    stimulus = Sequence(iois=df_piece.stim_ioi)\n",
    "    response = Sequence(iois=df_piece.resp_iti)\n",
    "\n",
    "    # Add them to the lists\n",
    "    stimuli.append(stimulus)\n",
    "    responses.append(response)\n"
   ]
  },
  {
   "cell_type": "markdown",
   "id": "8bc45aaf-1fe3-4e05-9072-48c42a4bc44c",
   "metadata": {},
   "source": [
    "Now we're ready to plot. "
   ]
  },
  {
   "cell_type": "code",
   "execution_count": null,
   "id": "84a900c0-5b8e-4c5f-96cb-5d66f6064d3d",
   "metadata": {},
   "outputs": [],
   "source": [
    "plot_phase_differences(stimuli, responses, dpi=300);"
   ]
  },
  {
   "cell_type": "markdown",
   "id": "4e64ed38-ed46-4aa6-bfb8-e1282faf058b",
   "metadata": {},
   "source": [
    "Say we want to change the x axis labels, we can do that as follows:"
   ]
  },
  {
   "cell_type": "markdown",
   "id": "36954c09-4a70-4d3c-89ca-5bdeb197cd0f",
   "metadata": {},
   "source": [
    "## Adjusting and saving the figure"
   ]
  },
  {
   "cell_type": "raw",
   "id": "ca7612d3-7ae2-4939-aaea-7f6afa83187b",
   "metadata": {
    "raw_mimetype": "text/restructuredtext",
    "tags": []
   },
   "source": [
    "The package documentation describes different customization options (e.g. setting the direction of 0 differently). You can find it here: :py:func:`thebeat.visualization.plot_phase_differences`.\n",
    "\n",
    "You may also want to take a look at the more general page :ref:`Saving and manipulating plots`."
   ]
  }
 ],
 "metadata": {
  "kernelspec": {
   "display_name": "Python 3 (ipykernel)",
   "language": "python",
   "name": "python3"
  },
  "language_info": {
   "codemirror_mode": {
    "name": "ipython",
    "version": 3
   },
   "file_extension": ".py",
   "mimetype": "text/x-python",
   "name": "python",
   "nbconvert_exporter": "python",
   "pygments_lexer": "ipython3",
   "version": "3.9.6"
  }
 },
 "nbformat": 4,
 "nbformat_minor": 5
}
