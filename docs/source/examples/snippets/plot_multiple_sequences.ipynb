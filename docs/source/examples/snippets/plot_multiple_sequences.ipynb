{
 "cells": [
  {
   "cell_type": "markdown",
   "metadata": {},
   "source": [
    "# Plotting multiple sequences\n",
    "\n",
    "This snippet shows you how to plot a number of sequences as one combined event plot.\n",
    "\n",
    "## Simple example\n",
    "Let's first start by importing what we are going to need:"
   ]
  },
  {
   "cell_type": "code",
   "execution_count": null,
   "metadata": {
    "pycharm": {
     "name": "#%%\n"
    }
   },
   "outputs": [],
   "source": [
    "from thebeat.core import Sequence, SoundStimulus, SoundSequence\n",
    "from thebeat.visualization import plot_multiple_sequences\n",
    "import numpy as np\n",
    "\n",
    "# Additionally suppress warnings to avoid confusion\n",
    "import warnings\n",
    "warnings.filterwarnings('ignore')\n",
    "%matplotlib inline"
   ]
  },
  {
   "cell_type": "markdown",
   "metadata": {},
   "source": [
    "---"
   ]
  },
  {
   "cell_type": "markdown",
   "metadata": {
    "pycharm": {
     "name": "#%% md\n"
    }
   },
   "source": [
    "We start by creating two dummy sequences:"
   ]
  },
  {
   "cell_type": "code",
   "execution_count": null,
   "metadata": {
    "pycharm": {
     "name": "#%%\n"
    }
   },
   "outputs": [],
   "source": [
    "# This is for reproducible randomness (so you will get the same sequences as me)\n",
    "rng = np.random.default_rng(seed=123)\n",
    "\n",
    "# Create sequences\n",
    "seq_isoc = Sequence.generate_isochronous(n_events=8, ioi=500)\n",
    "seq_random = Sequence.generate_random_normal(n_events=8, mu=500, sigma=100, rng=rng)"
   ]
  },
  {
   "cell_type": "raw",
   "metadata": {
    "raw_mimetype": "text/restructuredtext"
   },
   "source": [
    "Now we make a list of these sequences, and plot using :py:func:`~thebeat.visualization.plot_multiple_sequences`."
   ]
  },
  {
   "cell_type": "code",
   "execution_count": null,
   "metadata": {
    "pycharm": {
     "name": "#%%\n"
    }
   },
   "outputs": [],
   "source": [
    "seqs = [seq_isoc, seq_random]\n",
    "plot_multiple_sequences(seqs);"
   ]
  },
  {
   "cell_type": "markdown",
   "metadata": {
    "pycharm": {
     "name": "#%% md\n"
    }
   },
   "source": [
    "## Complex example\n",
    "In this example we generate 10 sequences with random inter-onset intervals (IOIs), each containing 5 events\n",
    "that also have random event durations."
   ]
  },
  {
   "cell_type": "code",
   "execution_count": null,
   "metadata": {
    "pycharm": {
     "name": "#%%\n"
    }
   },
   "outputs": [],
   "source": [
    "# For reproducible randomness\n",
    "rng = np.random.default_rng(seed=123)\n",
    "\n",
    "# Generate random sequences using\n",
    "seqs = [Sequence.generate_random_uniform(n_events=5, a=200, b=800) for _ in range(10)]\n",
    "\n",
    "# Create empty list that we will fill with SoundSequence objects\n",
    "stimseqs = []\n",
    "\n",
    "# Loop over the sequences\n",
    "for seq in seqs:\n",
    "    # Generate 5 events with random durations\n",
    "    stims = [SoundStimulus.generate(duration_ms=x) for x in rng.integers(low=10, high=100, size=5)]\n",
    "    # Create a SoundSequence and add to stimseqs list\n",
    "    stimseqs.append(SoundSequence(stims, seq))\n",
    "\n",
    "# Additionally give them names\n",
    "sequence_names = [f\"Random {i+1}\" for i in range(len(stimseqs))]\n",
    "\n",
    "# Now plot!!\n",
    "plot_multiple_sequences(stimseqs, y_axis_labels=sequence_names);\n"
   ]
  },
  {
   "cell_type": "raw",
   "metadata": {
    "raw_mimetype": "text/restructuredtext",
    "vscode": {
     "languageId": "raw"
    }
   },
   "source": [
    "Adjusting the figure\n",
    "--------------------\n",
    "Now, of course the standard settings for the plot are great, but what if we want to adjust the plot some more?\n",
    "\n",
    "The plotting functions and methods used above all return a matplotlib :class:`~matplotlib.figure.Figure` object, and a matplotlib :class:`~matplotlib.axes.Axes` object.\n",
    "\n",
    "These objects we can manipulate, and then show or save, as in the example below.\n"
   ]
  },
  {
   "cell_type": "code",
   "execution_count": null,
   "metadata": {
    "pycharm": {
     "name": "#%%\n"
    }
   },
   "outputs": [],
   "source": [
    "import matplotlib.pyplot as plt\n",
    "\n",
    "# Generate random sequences (use a generator with a seed so you get the same results as we)\n",
    "rng = np.random.default_rng(seed=123)\n",
    "seqs = [Sequence.generate_random_normal(n_events=10, mu=500, sigma=50, rng=rng) for _ in range(10)]\n",
    "\n",
    "# Use the Sequence.plot() method\n",
    "fig, ax = plot_multiple_sequences(seqs,\n",
    "                                  title='My random sequences')\n",
    "\n",
    "# Add in some text with a box around it\n",
    "box_properties = dict(boxstyle='round', facecolor='white', alpha=0.8)\n",
    "ax.text(4300, 0.01, s=\"$\\mu = 500$\\n$\\sigma = 50$\", bbox=box_properties, fontsize=14)\n",
    "\n",
    "# Show\n",
    "fig.show();"
   ]
  }
 ],
 "metadata": {
  "celltoolbar": "Raw-celnotatie",
  "kernelspec": {
   "display_name": "Python 3 (ipykernel)",
   "language": "python",
   "name": "python3"
  },
  "language_info": {
   "codemirror_mode": {
    "name": "ipython",
    "version": 3
   },
   "file_extension": ".py",
   "mimetype": "text/x-python",
   "name": "python",
   "nbconvert_exporter": "python",
   "pygments_lexer": "ipython3",
   "version": "3.9.13"
  }
 },
 "nbformat": 4,
 "nbformat_minor": 4
}
