{
 "cells": [
  {
   "cell_type": "markdown",
   "id": "b9cd0898-9bc0-4f1a-88d3-e07b7727d240",
   "metadata": {},
   "source": [
    "# Saving and manipulating thebeat's plots"
   ]
  },
  {
   "cell_type": "markdown",
   "id": "dd03ba4b-6f26-4d1d-9b89-1e4da420eec5",
   "metadata": {},
   "source": [
    "Here we explain how to save or manipulate plots made using *thebeat*"
   ]
  }
 ],
 "metadata": {
  "kernelspec": {
   "display_name": "Python 3 (ipykernel)",
   "language": "python",
   "name": "python3"
  },
  "language_info": {
   "codemirror_mode": {
    "name": "ipython",
    "version": 3
   },
   "file_extension": ".py",
   "mimetype": "text/x-python",
   "name": "python",
   "nbconvert_exporter": "python",
   "pygments_lexer": "ipython3",
   "version": "3.9.13"
  }
 },
 "nbformat": 4,
 "nbformat_minor": 5
}
