{
 "cells": [
  {
   "cell_type": "markdown",
   "id": "ce0ab035-e7b5-4b8c-a4a1-5d84335e0619",
   "metadata": {},
   "source": [
    "# Exporting a DataFrame from a list of sequences"
   ]
  },
  {
   "cell_type": "raw",
   "id": "5f10484e-218f-4d1b-aa9d-7093d38d8cb1",
   "metadata": {
    "raw_mimetype": "text/restructuredtext",
    "tags": []
   },
   "source": [
    ":py:class:`~thebeat.core.Sequence` objects can be quickly converted to a :class:`pandas.DataFrame` using the :py:func:`thebeat.utils.get_ioi_df` function. Below we illustrate how it works.\n",
    "\n",
    "The resulting :class:`pandas.DataFrame` is in the `tidy data <https://en.wikipedia.org/wiki/Tidy_data>`_ format, i.e. 'long format', where each individual IOI has its own row."
   ]
  },
  {
   "cell_type": "markdown",
   "id": "bbfed0df-5df1-40a8-b34b-4e077481b112",
   "metadata": {},
   "source": [
    "## Preliminaries\n",
    "First we import some necessary functions and create a NumPy generator object with a seed, so you will get the same output as we. "
   ]
  },
  {
   "cell_type": "code",
   "execution_count": null,
   "id": "aa63d2d0-25ed-4579-adea-5c8549f4774e",
   "metadata": {},
   "outputs": [],
   "source": [
    "import thebeat\n",
    "import numpy as np\n",
    "import pandas as pd\n",
    "\n",
    "rng = np.random.default_rng(seed=123)"
   ]
  },
  {
   "cell_type": "raw",
   "id": "25ec3e54-1dfb-4a2c-8f2b-bed528acfd50",
   "metadata": {
    "raw_mimetype": "text/restructuredtext",
    "tags": []
   },
   "source": [
    "And we create some random :py:class:`~thebeat.core.Sequence` objects:"
   ]
  },
  {
   "cell_type": "code",
   "execution_count": null,
   "id": "57ce37f6-2053-4c63-b906-a996ce3f30d2",
   "metadata": {},
   "outputs": [],
   "source": [
    "# Create empty list\n",
    "sequences = []\n",
    "\n",
    "# Create 10 random Sequence objects and add to the list\n",
    "for _ in range(10):\n",
    "    sequence = thebeat.Sequence.generate_random_normal(n_events=10,\n",
    "                                                       mu=500,\n",
    "                                                       sigma=25,\n",
    "                                                       rng=rng)\n",
    "    sequences.append(sequence)"
   ]
  },
  {
   "cell_type": "markdown",
   "id": "2d310fba-68af-409e-85e2-d26cea745e30",
   "metadata": {},
   "source": [
    "See what they look like:"
   ]
  },
  {
   "cell_type": "code",
   "execution_count": null,
   "id": "32e91aa0-db01-42bd-b940-e579258b8848",
   "metadata": {},
   "outputs": [],
   "source": [
    "print(sequences)"
   ]
  },
  {
   "cell_type": "markdown",
   "id": "0b16ae08-743e-4ea8-a278-2e2e2316dd7e",
   "metadata": {},
   "source": [
    "## Creating a simple DataFrame of IOIs"
   ]
  },
  {
   "cell_type": "code",
   "execution_count": null,
   "id": "e6bb47d8-16ff-42db-9aed-0bf5700704a1",
   "metadata": {},
   "outputs": [],
   "source": [
    "df = thebeat.utils.get_ioi_df(sequences)\n",
    "df"
   ]
  },
  {
   "cell_type": "markdown",
   "id": "7b267cc7-4554-4bec-a45c-a7a0bdffbf83",
   "metadata": {},
   "source": [
    "## Creating a DataFrame with additional calculations"
   ]
  },
  {
   "cell_type": "raw",
   "id": "9f44f62c-4c65-4ecb-b77a-03df5b0c1ee9",
   "metadata": {
    "raw_mimetype": "text/restructuredtext",
    "tags": []
   },
   "source": [
    "We can pass :py:func:`~thebeat.utils.get_ioi_df` additional functions to its ``additional_functions`` parameter. They will be applied to each provided sequence, and the resulting values will be added to the :class:`pandas.DataFrame`. Note that we need to provide the actual functions, not simply their names. Also note that ``additional_functions`` expects a list, so even if providing only one function, that function needs to be within a list."
   ]
  },
  {
   "cell_type": "code",
   "execution_count": null,
   "id": "a06e1976-3ad2-427f-b98b-5cf2b3ad2360",
   "metadata": {},
   "outputs": [],
   "source": [
    "df = thebeat.utils.get_ioi_df(sequences=sequences,\n",
    "                              additional_functions=[np.mean, np.std, np.min, np.max])\n",
    "df"
   ]
  },
  {
   "cell_type": "markdown",
   "id": "2a6f6828-0903-4baf-bf3f-c989d4a4f6d8",
   "metadata": {},
   "source": [
    "## Saving the DataFrame"
   ]
  },
  {
   "cell_type": "raw",
   "id": "9379c828-52d3-40ac-87f2-54e458530111",
   "metadata": {
    "raw_mimetype": "text/restructuredtext",
    "tags": []
   },
   "source": [
    "To save the :class:`pandas.DataFrame`, we can simply use its :meth:`pandas.DataFrame.to_csv` method:"
   ]
  },
  {
   "cell_type": "code",
   "execution_count": null,
   "id": "ef8d8b5c-ccf2-48c7-b566-14933a0ff594",
   "metadata": {},
   "outputs": [],
   "source": [
    "df.to_csv('random_sequences.csv')"
   ]
  }
 ],
 "metadata": {
  "kernelspec": {
   "display_name": "Python 3 (ipykernel)",
   "language": "python",
   "name": "python3"
  },
  "language_info": {
   "codemirror_mode": {
    "name": "ipython",
    "version": 3
   },
   "file_extension": ".py",
   "mimetype": "text/x-python",
   "name": "python",
   "nbconvert_exporter": "python",
   "pygments_lexer": "ipython3",
   "version": "3.9.6"
  }
 },
 "nbformat": 4,
 "nbformat_minor": 5
}
