{
 "cells": [
  {
   "cell_type": "markdown",
   "metadata": {
    "pycharm": {
     "name": "#%% md\n"
    }
   },
   "source": [
    "# Plotting a single sequence\n",
    "\n",
    "This snippet shows how to plot a single sequence of events as an event plot.\n",
    "\n",
    "---"
   ]
  },
  {
   "cell_type": "markdown",
   "metadata": {},
   "source": [
    "First, we import what we will be using throughout the snippet:"
   ]
  },
  {
   "cell_type": "code",
   "execution_count": null,
   "metadata": {
    "pycharm": {
     "name": "#%%\n"
    }
   },
   "outputs": [],
   "source": [
    "from thebeat import Sequence, SoundStimulus, SoundSequence\n",
    "import numpy as np"
   ]
  },
  {
   "cell_type": "raw",
   "metadata": {
    "raw_mimetype": "text/restructuredtext"
   },
   "source": [
    "From a Sequence object\n",
    "----------------------\n",
    "Plotting :py:class:`~thebeat.core.Sequence` objects is easy. The :py:class:`~thebeat.core.Sequence` class already has a method that does it (:py:meth:`~thebeat.core.Sequence.plot_sequence`).\n",
    "As :py:class:`~thebeat.core.Sequence` objects do not contain information about the durations of the events, we use an arbitrary ``linewidth`` for the lines. If none is supplied it uses 1/10th of the smallest IOI as the default."
   ]
  },
  {
   "cell_type": "code",
   "execution_count": null,
   "metadata": {
    "nbsphinx": "hidden",
    "tags": []
   },
   "outputs": [],
   "source": [
    "# We suppress warnings, but let's hide that to avoid confusion\n",
    "import warnings\n",
    "warnings.filterwarnings('ignore')\n",
    "%matplotlib inline"
   ]
  },
  {
   "cell_type": "code",
   "execution_count": null,
   "metadata": {
    "pycharm": {
     "name": "#%%\n"
    }
   },
   "outputs": [],
   "source": [
    "seq = Sequence.generate_isochronous(n_events=10, ioi=0.5)\n",
    "seq.plot_sequence(x_axis_label=\"Time (s)\");  # uses the default linewidth"
   ]
  },
  {
   "cell_type": "markdown",
   "metadata": {},
   "source": [
    "---"
   ]
  },
  {
   "cell_type": "raw",
   "metadata": {
    "raw_mimetype": "text/restructuredtext",
    "tags": []
   },
   "source": [
    "As you might have noticed in the example above, we passed the ``plot_sequence`` method the argument ``x_axis_label``. This is one of the so-called keyword arguments (``**kwargs``) that can be supplied to most of the plotting functions in this package. For a reference, see e.g. :py:func:`thebeat.helpers.plot_single_sequence`."
   ]
  },
  {
   "cell_type": "code",
   "execution_count": null,
   "metadata": {
    "pycharm": {
     "name": "#%%\n"
    }
   },
   "outputs": [],
   "source": [
    "seq = Sequence.generate_isochronous(n_events=5, ioi=500)\n",
    "seq.plot_sequence(title='My awesome sequence', linewidth=100, figsize=(4, 2));"
   ]
  },
  {
   "cell_type": "raw",
   "metadata": {
    "pycharm": {
     "name": "#%% md\n"
    },
    "raw_mimetype": "text/restructuredtext"
   },
   "source": [
    "From a SoundSequence object\n",
    "---------------------------\n",
    ":py:class:`~thebeat.core.SoundSequence` objects differ from :py:class:`~thebeat.core.Sequence` objects in that they also contain event durations. So, we do not\n",
    "have to supply linewidths (though we can), but the linewidths are given by how long the events are."
   ]
  },
  {
   "cell_type": "code",
   "execution_count": null,
   "metadata": {
    "pycharm": {
     "name": "#%%\n"
    }
   },
   "outputs": [],
   "source": [
    "# We use a seed to make sure you get the same random output as we\n",
    "rng = np.random.default_rng(seed=123)\n",
    "\n",
    "# Let's create 10 stimuli with random durations between 20 and 150 milliseconds\n",
    "stims = [SoundStimulus.generate(duration_ms=x) for x in rng.integers(low=20, high=250, size=10)]\n",
    "\n",
    "# Then we create a randomly timed Sequence\n",
    "seq = Sequence.generate_random_normal(n_events=10, mu=500, sigma=50, rng=rng)\n",
    "\n",
    "# Create the SoundSequence object\n",
    "stimseq = SoundSequence(stims, seq)\n",
    "\n",
    "# And plot!\n",
    "stimseq.plot_sequence(title='Random StimSeq');"
   ]
  },
  {
   "cell_type": "raw",
   "metadata": {
    "pycharm": {
     "name": "#%% md\n"
    },
    "raw_mimetype": "text/restructuredtext"
   },
   "source": [
    "From a list of onsets\n",
    "---------------------\n",
    "If we want to plot onsets that do not start with zero, we can use the :py:meth:`thebeat.core.Sequence.from_onsets` method and then plot."
   ]
  },
  {
   "cell_type": "code",
   "execution_count": null,
   "metadata": {
    "pycharm": {
     "name": "#%%\n"
    }
   },
   "outputs": [],
   "source": [
    "seq = Sequence.from_onsets([200, 500, 1000, 1400, 2300])\n",
    "seq.plot_sequence(title = \"Non-zero first onset\", figsize = (8,3));"
   ]
  },
  {
   "cell_type": "raw",
   "metadata": {
    "pycharm": {
     "name": "#%% md\n"
    },
    "raw_mimetype": "text/restructuredtext"
   },
   "source": [
    "Adjusting the figure\n",
    "--------------------\n",
    "Now, of course the standard settings for the plot are great, but what if we want to adjust the plot some more?\n",
    "\n",
    "The plotting functions and methods used above all return a matplotlib :class:`~matplotlib.figure.Figure` object, and a matplotlib :class:`~matplotlib.axes.Axes` object.\n",
    "\n",
    "These objects we can manipulate, and then show or save, as in the example below. We might want to suppress displaying the unadjusted plot, which we can do by passing ``suppress_display=True`` to the plotting method."
   ]
  },
  {
   "cell_type": "code",
   "execution_count": null,
   "metadata": {
    "pycharm": {
     "name": "#%%\n"
    }
   },
   "outputs": [],
   "source": [
    "import matplotlib.pyplot as plt\n",
    "\n",
    "# Generate isochronous sequence\n",
    "seq = Sequence.generate_isochronous(n_events=10, ioi=500)\n",
    "\n",
    "# Use the Sequence.plot() method\n",
    "fig, ax = seq.plot_sequence(title='My isochronous sequence',\n",
    "                            suppress_display=True,\n",
    "                            figsize=(8, 3))\n",
    "\n",
    "# Add in some text with a box around it\n",
    "box_properties = dict(boxstyle='round', facecolor='white', alpha=0.8)\n",
    "ax.text(3900, 0.8, s=\"nPVI = 0\", bbox=box_properties, fontsize=14)\n",
    "\n",
    "# Show\n",
    "plt.show();"
   ]
  },
  {
   "cell_type": "markdown",
   "metadata": {},
   "source": [
    "---"
   ]
  },
  {
   "cell_type": "raw",
   "metadata": {
    "raw_mimetype": "text/restructuredtext",
    "tags": []
   },
   "source": [
    "Plotting onto an existing Axes object\n",
    "-------------------------------------\n",
    "\n",
    "Finally, sometimes it is useful to be able to create a *matplotlib* :class:`~matplotlib.axes.Axes` and :class:`~matplotlib.figure.Figure` object first, and then use one of the plotting functions of *thebeat* to plot onto it. This we can do by passing the existing :class:`~matplotlib.axes.Axes` object to the ``ax`` parameter. Below is an example. The ``tight_layout`` parameter makes sure all the labels are plotted nicely."
   ]
  },
  {
   "cell_type": "code",
   "execution_count": null,
   "metadata": {},
   "outputs": [],
   "source": [
    "# Import matplotlib\n",
    "import matplotlib.pyplot as plt\n",
    "\n",
    "# Create initial Figure and Axes\n",
    "fig, axs = plt.subplots(nrows=2, ncols=1, tight_layout=True)\n",
    "\n",
    "# Create two sequences\n",
    "seq1 = Sequence.generate_isochronous(n_events=5, ioi=500)\n",
    "seq2 = Sequence.generate_isochronous(n_events=5, ioi=300)\n",
    "\n",
    "# Plot onto existing Axes objects\n",
    "seq1.plot_sequence(ax=axs[0])\n",
    "seq2.plot_sequence(ax=axs[1])\n",
    "\n",
    "# Add a title and show\n",
    "fig.suptitle('Two plots in one')\n",
    "fig.show()"
   ]
  }
 ],
 "metadata": {
  "celltoolbar": "Raw-celnotatie",
  "kernelspec": {
   "display_name": "Python 3 (ipykernel)",
   "language": "python",
   "name": "python3"
  },
  "language_info": {
   "codemirror_mode": {
    "name": "ipython",
    "version": 3
   },
   "file_extension": ".py",
   "mimetype": "text/x-python",
   "name": "python",
   "nbconvert_exporter": "python",
   "pygments_lexer": "ipython3",
   "version": "3.9.16"
  }
 },
 "nbformat": 4,
 "nbformat_minor": 4
}
