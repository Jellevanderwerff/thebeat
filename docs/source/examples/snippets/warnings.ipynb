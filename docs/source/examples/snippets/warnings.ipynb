{
 "cells": [
  {
   "cell_type": "markdown",
   "id": "709cb0ba-42cd-44bb-a293-f6b27d16d6cf",
   "metadata": {},
   "source": [
    "# Getting rid of warnings"
   ]
  },
  {
   "cell_type": "markdown",
   "id": "258caa7b-a8a2-4e25-9f53-c8bef95cba70",
   "metadata": {},
   "source": [
    "Frame rounding / frame drops etc."
   ]
  }
 ],
 "metadata": {
  "kernelspec": {
   "display_name": "Python 3 (ipykernel)",
   "language": "python",
   "name": "python3"
  },
  "language_info": {
   "codemirror_mode": {
    "name": "ipython",
    "version": 3
   },
   "file_extension": ".py",
   "mimetype": "text/x-python",
   "name": "python",
   "nbconvert_exporter": "python",
   "pygments_lexer": "ipython3",
   "version": "3.9.13"
  }
 },
 "nbformat": 4,
 "nbformat_minor": 5
}
